{
 "cells": [
  {
   "cell_type": "code",
   "execution_count": 9,
   "id": "b0c9b632",
   "metadata": {},
   "outputs": [
    {
     "name": "stdout",
     "output_type": "stream",
     "text": [
      "Requirement already satisfied: census in c:\\users\\nico.cosereanu\\anaconda3\\envs\\pythondata\\lib\\site-packages (0.8.19)\n",
      "Requirement already satisfied: requests>=1.1.0 in c:\\users\\nico.cosereanu\\anaconda3\\envs\\pythondata\\lib\\site-packages (from census) (2.27.1)\n",
      "Requirement already satisfied: idna<4,>=2.5; python_version >= \"3\" in c:\\users\\nico.cosereanu\\anaconda3\\envs\\pythondata\\lib\\site-packages (from requests>=1.1.0->census) (3.3)\n",
      "Requirement already satisfied: urllib3<1.27,>=1.21.1 in c:\\users\\nico.cosereanu\\anaconda3\\envs\\pythondata\\lib\\site-packages (from requests>=1.1.0->census) (1.26.9)\n",
      "Requirement already satisfied: charset-normalizer~=2.0.0; python_version >= \"3\" in c:\\users\\nico.cosereanu\\anaconda3\\envs\\pythondata\\lib\\site-packages (from requests>=1.1.0->census) (2.0.12)\n",
      "Requirement already satisfied: certifi>=2017.4.17 in c:\\users\\nico.cosereanu\\anaconda3\\envs\\pythondata\\lib\\site-packages (from requests>=1.1.0->census) (2021.10.8)\n"
     ]
    }
   ],
   "source": [
    "!pip install census"
   ]
  },
  {
   "cell_type": "code",
   "execution_count": 15,
   "id": "22b36cb7",
   "metadata": {},
   "outputs": [],
   "source": [
    "# Dependencies\n",
    "import numpy as np\n",
    "import pandas as pd\n",
    "import matplotlib.pyplot as plt\n",
    "import requests\n",
    "from census import Census\n",
    "\n",
    "# Census API Key\n",
    "from config import api_key\n",
    "c = Census(api_key, year=2016)"
   ]
  },
  {
   "cell_type": "code",
   "execution_count": 16,
   "id": "2dc13af7",
   "metadata": {},
   "outputs": [
    {
     "name": "stdout",
     "output_type": "stream",
     "text": [
      "33120\n"
     ]
    },
    {
     "data": {
      "text/html": [
       "<div>\n",
       "<style scoped>\n",
       "    .dataframe tbody tr th:only-of-type {\n",
       "        vertical-align: middle;\n",
       "    }\n",
       "\n",
       "    .dataframe tbody tr th {\n",
       "        vertical-align: top;\n",
       "    }\n",
       "\n",
       "    .dataframe thead th {\n",
       "        text-align: right;\n",
       "    }\n",
       "</style>\n",
       "<table border=\"1\" class=\"dataframe\">\n",
       "  <thead>\n",
       "    <tr style=\"text-align: right;\">\n",
       "      <th></th>\n",
       "      <th>Zipcode</th>\n",
       "      <th>Population</th>\n",
       "      <th>Median Age</th>\n",
       "      <th>Household Income</th>\n",
       "      <th>Per Capita Income</th>\n",
       "      <th>Poverty Count</th>\n",
       "      <th>Poverty Rate</th>\n",
       "    </tr>\n",
       "  </thead>\n",
       "  <tbody>\n",
       "    <tr>\n",
       "      <th>0</th>\n",
       "      <td>05762</td>\n",
       "      <td>513.0</td>\n",
       "      <td>39.2</td>\n",
       "      <td>58558.0</td>\n",
       "      <td>24235.0</td>\n",
       "      <td>50.0</td>\n",
       "      <td>9.746589</td>\n",
       "    </tr>\n",
       "    <tr>\n",
       "      <th>1</th>\n",
       "      <td>05763</td>\n",
       "      <td>2715.0</td>\n",
       "      <td>43.9</td>\n",
       "      <td>54968.0</td>\n",
       "      <td>29674.0</td>\n",
       "      <td>488.0</td>\n",
       "      <td>17.974217</td>\n",
       "    </tr>\n",
       "    <tr>\n",
       "      <th>2</th>\n",
       "      <td>05764</td>\n",
       "      <td>3370.0</td>\n",
       "      <td>41.3</td>\n",
       "      <td>44468.0</td>\n",
       "      <td>22651.0</td>\n",
       "      <td>323.0</td>\n",
       "      <td>9.584570</td>\n",
       "    </tr>\n",
       "    <tr>\n",
       "      <th>3</th>\n",
       "      <td>05765</td>\n",
       "      <td>1632.0</td>\n",
       "      <td>46.7</td>\n",
       "      <td>56771.0</td>\n",
       "      <td>30786.0</td>\n",
       "      <td>85.0</td>\n",
       "      <td>5.208333</td>\n",
       "    </tr>\n",
       "    <tr>\n",
       "      <th>4</th>\n",
       "      <td>05766</td>\n",
       "      <td>598.0</td>\n",
       "      <td>45.9</td>\n",
       "      <td>52250.0</td>\n",
       "      <td>33227.0</td>\n",
       "      <td>76.0</td>\n",
       "      <td>12.709030</td>\n",
       "    </tr>\n",
       "  </tbody>\n",
       "</table>\n",
       "</div>"
      ],
      "text/plain": [
       "  Zipcode  Population  Median Age  Household Income  Per Capita Income  \\\n",
       "0   05762       513.0        39.2           58558.0            24235.0   \n",
       "1   05763      2715.0        43.9           54968.0            29674.0   \n",
       "2   05764      3370.0        41.3           44468.0            22651.0   \n",
       "3   05765      1632.0        46.7           56771.0            30786.0   \n",
       "4   05766       598.0        45.9           52250.0            33227.0   \n",
       "\n",
       "   Poverty Count  Poverty Rate  \n",
       "0           50.0      9.746589  \n",
       "1          488.0     17.974217  \n",
       "2          323.0      9.584570  \n",
       "3           85.0      5.208333  \n",
       "4           76.0     12.709030  "
      ]
     },
     "execution_count": 16,
     "metadata": {},
     "output_type": "execute_result"
    }
   ],
   "source": [
    "# Run Census Search to retrieve data on all zip codes (2013 ACS5 Census)\n",
    "# See: https://github.com/CommerceDataService/census-wrapper for library documentation\n",
    "# See: https://gist.github.com/afhaque/60558290d6efd892351c4b64e5c01e9b for labels\n",
    "census_data = c.acs5.get((\"NAME\", \"B19013_001E\", \"B01003_001E\", \"B01002_001E\",\n",
    "                          \"B19301_001E\",\n",
    "                          \"B17001_002E\"), {'for': 'zip code tabulation area:*'})\n",
    "\n",
    "# Convert to DataFrame\n",
    "census_pd = pd.DataFrame(census_data)\n",
    "\n",
    "# Column Reordering\n",
    "census_pd = census_pd.rename(columns={\"B01003_001E\": \"Population\",\n",
    "                                      \"B01002_001E\": \"Median Age\",\n",
    "                                      \"B19013_001E\": \"Household Income\",\n",
    "                                      \"B19301_001E\": \"Per Capita Income\",\n",
    "                                      \"B17001_002E\": \"Poverty Count\",\n",
    "                                      \"NAME\": \"Name\", \"zip code tabulation area\": \"Zipcode\"})\n",
    "\n",
    "# Add in Poverty Rate (Poverty Count / Population)\n",
    "census_pd[\"Poverty Rate\"] = 100 * \\\n",
    "    census_pd[\"Poverty Count\"].astype(\n",
    "        int) / census_pd[\"Population\"].astype(int)\n",
    "\n",
    "# Final DataFrame\n",
    "census_pd = census_pd[[\"Zipcode\", \"Population\", \"Median Age\", \"Household Income\",\n",
    "                       \"Per Capita Income\", \"Poverty Count\", \"Poverty Rate\"]]\n",
    "\n",
    "# Visualize\n",
    "print(len(census_pd))\n",
    "census_pd.head()"
   ]
  },
  {
   "cell_type": "code",
   "execution_count": 17,
   "id": "ba0292e8",
   "metadata": {},
   "outputs": [],
   "source": [
    "# Save as a csv\n",
    "# Note to avoid any issues later, use encoding=\"utf-8\"\n",
    "census_pd.to_csv(\"census_data_2016.csv\", encoding=\"utf-8\", index=False)"
   ]
  }
 ],
 "metadata": {
  "kernelspec": {
   "display_name": "Python 3 (ipykernel)",
   "language": "python",
   "name": "python3"
  },
  "language_info": {
   "codemirror_mode": {
    "name": "ipython",
    "version": 3
   },
   "file_extension": ".py",
   "mimetype": "text/x-python",
   "name": "python",
   "nbconvert_exporter": "python",
   "pygments_lexer": "ipython3",
   "version": "3.7.7"
  }
 },
 "nbformat": 4,
 "nbformat_minor": 5
}
