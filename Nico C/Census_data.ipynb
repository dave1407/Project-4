{
 "cells": [
  {
   "cell_type": "code",
   "execution_count": 9,
   "id": "6e4b5a97",
   "metadata": {},
   "outputs": [
    {
     "name": "stdout",
     "output_type": "stream",
     "text": [
      "Requirement already satisfied: census in c:\\users\\nico.cosereanu\\anaconda3\\envs\\pythondata\\lib\\site-packages (0.8.19)\n",
      "Requirement already satisfied: requests>=1.1.0 in c:\\users\\nico.cosereanu\\anaconda3\\envs\\pythondata\\lib\\site-packages (from census) (2.27.1)\n",
      "Requirement already satisfied: idna<4,>=2.5; python_version >= \"3\" in c:\\users\\nico.cosereanu\\anaconda3\\envs\\pythondata\\lib\\site-packages (from requests>=1.1.0->census) (3.3)\n",
      "Requirement already satisfied: urllib3<1.27,>=1.21.1 in c:\\users\\nico.cosereanu\\anaconda3\\envs\\pythondata\\lib\\site-packages (from requests>=1.1.0->census) (1.26.9)\n",
      "Requirement already satisfied: charset-normalizer~=2.0.0; python_version >= \"3\" in c:\\users\\nico.cosereanu\\anaconda3\\envs\\pythondata\\lib\\site-packages (from requests>=1.1.0->census) (2.0.12)\n",
      "Requirement already satisfied: certifi>=2017.4.17 in c:\\users\\nico.cosereanu\\anaconda3\\envs\\pythondata\\lib\\site-packages (from requests>=1.1.0->census) (2021.10.8)\n"
     ]
    }
   ],
   "source": [
    "!pip install census"
   ]
  },
  {
   "cell_type": "code",
   "execution_count": 10,
   "id": "2a3eaba4",
   "metadata": {},
   "outputs": [],
   "source": [
    "# Dependencies\n",
    "import numpy as np\n",
    "import pandas as pd\n",
    "import matplotlib.pyplot as plt\n",
    "import requests\n",
    "from census import Census\n",
    "\n",
    "# Census API Key\n",
    "from config import api_key\n",
    "c = Census(api_key, year=2020)"
   ]
  },
  {
   "cell_type": "code",
   "execution_count": 12,
   "id": "ab22a969",
   "metadata": {},
   "outputs": [
    {
     "name": "stdout",
     "output_type": "stream",
     "text": [
      "33120\n"
     ]
    },
    {
     "data": {
      "text/html": [
       "<div>\n",
       "<style scoped>\n",
       "    .dataframe tbody tr th:only-of-type {\n",
       "        vertical-align: middle;\n",
       "    }\n",
       "\n",
       "    .dataframe tbody tr th {\n",
       "        vertical-align: top;\n",
       "    }\n",
       "\n",
       "    .dataframe thead th {\n",
       "        text-align: right;\n",
       "    }\n",
       "</style>\n",
       "<table border=\"1\" class=\"dataframe\">\n",
       "  <thead>\n",
       "    <tr style=\"text-align: right;\">\n",
       "      <th></th>\n",
       "      <th>Zipcode</th>\n",
       "      <th>Population</th>\n",
       "      <th>Median Age</th>\n",
       "      <th>Household Income</th>\n",
       "      <th>Per Capita Income</th>\n",
       "      <th>Poverty Count</th>\n",
       "      <th>Poverty Rate</th>\n",
       "    </tr>\n",
       "  </thead>\n",
       "  <tbody>\n",
       "    <tr>\n",
       "      <th>0</th>\n",
       "      <td>29590</td>\n",
       "      <td>3543.0</td>\n",
       "      <td>39.1</td>\n",
       "      <td>30985.0</td>\n",
       "      <td>13288.0</td>\n",
       "      <td>869.0</td>\n",
       "      <td>24.527237</td>\n",
       "    </tr>\n",
       "    <tr>\n",
       "      <th>1</th>\n",
       "      <td>93306</td>\n",
       "      <td>74296.0</td>\n",
       "      <td>31.3</td>\n",
       "      <td>54450.0</td>\n",
       "      <td>23580.0</td>\n",
       "      <td>15853.0</td>\n",
       "      <td>21.337622</td>\n",
       "    </tr>\n",
       "    <tr>\n",
       "      <th>2</th>\n",
       "      <td>93660</td>\n",
       "      <td>4082.0</td>\n",
       "      <td>26.7</td>\n",
       "      <td>39625.0</td>\n",
       "      <td>12475.0</td>\n",
       "      <td>1057.0</td>\n",
       "      <td>25.894170</td>\n",
       "    </tr>\n",
       "    <tr>\n",
       "      <th>3</th>\n",
       "      <td>93110</td>\n",
       "      <td>15777.0</td>\n",
       "      <td>46.9</td>\n",
       "      <td>93264.0</td>\n",
       "      <td>53375.0</td>\n",
       "      <td>1332.0</td>\n",
       "      <td>8.442670</td>\n",
       "    </tr>\n",
       "    <tr>\n",
       "      <th>4</th>\n",
       "      <td>93212</td>\n",
       "      <td>22596.0</td>\n",
       "      <td>34.4</td>\n",
       "      <td>42983.0</td>\n",
       "      <td>10656.0</td>\n",
       "      <td>3911.0</td>\n",
       "      <td>17.308373</td>\n",
       "    </tr>\n",
       "  </tbody>\n",
       "</table>\n",
       "</div>"
      ],
      "text/plain": [
       "  Zipcode  Population  Median Age  Household Income  Per Capita Income  \\\n",
       "0   29590      3543.0        39.1           30985.0            13288.0   \n",
       "1   93306     74296.0        31.3           54450.0            23580.0   \n",
       "2   93660      4082.0        26.7           39625.0            12475.0   \n",
       "3   93110     15777.0        46.9           93264.0            53375.0   \n",
       "4   93212     22596.0        34.4           42983.0            10656.0   \n",
       "\n",
       "   Poverty Count  Poverty Rate  \n",
       "0          869.0     24.527237  \n",
       "1        15853.0     21.337622  \n",
       "2         1057.0     25.894170  \n",
       "3         1332.0      8.442670  \n",
       "4         3911.0     17.308373  "
      ]
     },
     "execution_count": 12,
     "metadata": {},
     "output_type": "execute_result"
    }
   ],
   "source": [
    "# Run Census Search to retrieve data on all zip codes (2013 ACS5 Census)\n",
    "# See: https://github.com/CommerceDataService/census-wrapper for library documentation\n",
    "# See: https://gist.github.com/afhaque/60558290d6efd892351c4b64e5c01e9b for labels\n",
    "census_data = c.acs5.get((\"NAME\", \"B19013_001E\", \"B01003_001E\", \"B01002_001E\",\n",
    "                          \"B19301_001E\",\n",
    "                          \"B17001_002E\"), {'for': 'zip code tabulation area:*'})\n",
    "\n",
    "# Convert to DataFrame\n",
    "census_pd = pd.DataFrame(census_data)\n",
    "\n",
    "# Column Reordering\n",
    "census_pd = census_pd.rename(columns={\"B01003_001E\": \"Population\",\n",
    "                                      \"B01002_001E\": \"Median Age\",\n",
    "                                      \"B19013_001E\": \"Household Income\",\n",
    "                                      \"B19301_001E\": \"Per Capita Income\",\n",
    "                                      \"B17001_002E\": \"Poverty Count\",\n",
    "                                      \"NAME\": \"Name\", \"zip code tabulation area\": \"Zipcode\"})\n",
    "\n",
    "# Add in Poverty Rate (Poverty Count / Population)\n",
    "census_pd[\"Poverty Rate\"] = 100 * \\\n",
    "    census_pd[\"Poverty Count\"].astype(\n",
    "        int) / census_pd[\"Population\"].astype(int)\n",
    "\n",
    "# Final DataFrame\n",
    "census_pd = census_pd[[\"Zipcode\", \"Population\", \"Median Age\", \"Household Income\",\n",
    "                       \"Per Capita Income\", \"Poverty Count\", \"Poverty Rate\"]]\n",
    "\n",
    "# Visualize\n",
    "print(len(census_pd))\n",
    "census_pd.head()"
   ]
  },
  {
   "cell_type": "code",
   "execution_count": 13,
   "id": "83c03be2",
   "metadata": {},
   "outputs": [],
   "source": [
    "# Save as a csv\n",
    "# Note to avoid any issues later, use encoding=\"utf-8\"\n",
    "census_pd.to_csv(\"census_data.csv\", encoding=\"utf-8\", index=False)"
   ]
  }
 ],
 "metadata": {
  "kernelspec": {
   "display_name": "Python 3 (ipykernel)",
   "language": "python",
   "name": "python3"
  },
  "language_info": {
   "codemirror_mode": {
    "name": "ipython",
    "version": 3
   },
   "file_extension": ".py",
   "mimetype": "text/x-python",
   "name": "python",
   "nbconvert_exporter": "python",
   "pygments_lexer": "ipython3",
   "version": "3.7.7"
  }
 },
 "nbformat": 4,
 "nbformat_minor": 5
}
