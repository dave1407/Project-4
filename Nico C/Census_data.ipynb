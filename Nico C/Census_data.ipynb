{
 "cells": [
  {
   "cell_type": "code",
   "execution_count": 8,
   "id": "e30baac2",
   "metadata": {},
   "outputs": [
    {
     "name": "stdout",
     "output_type": "stream",
     "text": [
      "Requirement already satisfied: census in c:\\users\\nico.cosereanu\\anaconda3\\envs\\pythondata\\lib\\site-packages (0.8.19)\n",
      "Requirement already satisfied: requests>=1.1.0 in c:\\users\\nico.cosereanu\\anaconda3\\envs\\pythondata\\lib\\site-packages (from census) (2.27.1)\n",
      "Requirement already satisfied: urllib3<1.27,>=1.21.1 in c:\\users\\nico.cosereanu\\anaconda3\\envs\\pythondata\\lib\\site-packages (from requests>=1.1.0->census) (1.26.9)\n",
      "Requirement already satisfied: certifi>=2017.4.17 in c:\\users\\nico.cosereanu\\anaconda3\\envs\\pythondata\\lib\\site-packages (from requests>=1.1.0->census) (2021.10.8)\n",
      "Requirement already satisfied: idna<4,>=2.5; python_version >= \"3\" in c:\\users\\nico.cosereanu\\anaconda3\\envs\\pythondata\\lib\\site-packages (from requests>=1.1.0->census) (3.3)\n",
      "Requirement already satisfied: charset-normalizer~=2.0.0; python_version >= \"3\" in c:\\users\\nico.cosereanu\\anaconda3\\envs\\pythondata\\lib\\site-packages (from requests>=1.1.0->census) (2.0.12)\n"
     ]
    }
   ],
   "source": [
    "!pip install census"
   ]
  },
  {
   "cell_type": "code",
   "execution_count": 9,
   "id": "423b8448",
   "metadata": {},
   "outputs": [],
   "source": [
    "# Dependencies\n",
    "import numpy as np\n",
    "import pandas as pd\n",
    "import matplotlib.pyplot as plt\n",
    "import requests\n",
    "from census import Census\n",
    "\n",
    "# Census API Key\n",
    "from config import api_key\n",
    "c = Census(api_key, year=2022)"
   ]
  },
  {
   "cell_type": "code",
   "execution_count": 10,
   "id": "255c4fce",
   "metadata": {},
   "outputs": [],
   "source": [
    "# Run Census Search to retrieve data on all zip codes (2013 ACS5 Census)\n",
    "# See: https://github.com/CommerceDataService/census-wrapper for library documentation\n",
    "# See: https://gist.github.com/afhaque/60558290d6efd892351c4b64e5c01e9b for labels\n",
    "def get_census(year):\n",
    "    c = Census(api_key, year=year)\n",
    "    census_data = c.acs5.get((\"NAME\", \"B19013_001E\", \"B01003_001E\", \"B01002_001E\",\n",
    "                          \"B19301_001E\",\n",
    "                          \"B17001_002E\"), \n",
    "                         {'for': 'county:*'})\n",
    "                        \n",
    "\n",
    "# Convert to DataFrame\n",
    "    census_pd = pd.DataFrame(census_data)\n",
    "\n",
    "# Column Reordering\n",
    "    census_pd = census_pd.rename(columns={\"B01003_001E\": \"Population\",\n",
    "                                      \"B01002_001E\": \"Median Age\",\n",
    "                                      \"B19013_001E\": \"Household Income\",\n",
    "                                      \"B19301_001E\": \"Per Capita Income\",\n",
    "                                      \"B17001_002E\": \"Poverty Count\",\n",
    "                                      \"NAME\": \"Name\", \"county\": \"County\"\n",
    "                                      })\n",
    "\n",
    "# Add in Poverty Rate (Poverty Count / Population)\n",
    "    census_pd[\"Poverty Rate\"] = 100 * \\\n",
    "        census_pd[\"Poverty Count\"].astype(\n",
    "            int) / census_pd[\"Population\"].astype(int)\n",
    "\n",
    "# Final DataFrame\n",
    "    census_pd = census_pd[[\"Name\",\"County\", \"Population\", \"Median Age\", \"Household Income\",\n",
    "                           \"Per Capita Income\", \"Poverty Count\", \"Poverty Rate\"]]\n",
    "\n",
    "    census_pd['county_name'] = census_pd['Name'].str.replace(r\" County,(.*)\",'').str.upper()\n",
    "    census_pd['state'] = census_pd['Name'].str.replace(r\"(.*) County, \",'').str.upper()\n",
    "# Visualize\n",
    "    \n",
    "#     return census_pd\n",
    "\n",
    "# census_2012 = get_census(2012)\n",
    "# census_2012.head()\n",
    "# census_2012['year'] = 2012\n",
    "\n",
    "# census_2016 = get_census(2016)\n",
    "# census_2016.head()\n",
    "# census_2016['year'] = 2016\n",
    "\n",
    "# census_2020 = get_census(2020)\n",
    "# census_2020['year'] = 2020\n",
    "# census_2020.head()\n",
    "# census = pd.concat([census_2012,census_2016,census_2020])\n"
   ]
  },
  {
   "cell_type": "code",
   "execution_count": 11,
   "id": "056a2643",
   "metadata": {},
   "outputs": [
    {
     "ename": "NameError",
     "evalue": "name 'census_pd' is not defined",
     "output_type": "error",
     "traceback": [
      "\u001b[1;31m---------------------------------------------------------------------------\u001b[0m",
      "\u001b[1;31mNameError\u001b[0m                                 Traceback (most recent call last)",
      "\u001b[1;32m~\\AppData\\Local\\Temp\\ipykernel_18780\\3305516460.py\u001b[0m in \u001b[0;36m<module>\u001b[1;34m\u001b[0m\n\u001b[0;32m      1\u001b[0m \u001b[1;31m# Save as a csv\u001b[0m\u001b[1;33m\u001b[0m\u001b[1;33m\u001b[0m\u001b[1;33m\u001b[0m\u001b[0m\n\u001b[0;32m      2\u001b[0m \u001b[1;31m# Note to avoid any issues later, use encoding=\"utf-8\"\u001b[0m\u001b[1;33m\u001b[0m\u001b[1;33m\u001b[0m\u001b[1;33m\u001b[0m\u001b[0m\n\u001b[1;32m----> 3\u001b[1;33m \u001b[0mcensus_pd\u001b[0m\u001b[1;33m.\u001b[0m\u001b[0mto_csv\u001b[0m\u001b[1;33m(\u001b[0m\u001b[1;34m\"census_data_2022.csv\"\u001b[0m\u001b[1;33m,\u001b[0m \u001b[0mencoding\u001b[0m\u001b[1;33m=\u001b[0m\u001b[1;34m\"utf-8\"\u001b[0m\u001b[1;33m,\u001b[0m \u001b[0mindex\u001b[0m\u001b[1;33m=\u001b[0m\u001b[1;32mFalse\u001b[0m\u001b[1;33m)\u001b[0m\u001b[1;33m\u001b[0m\u001b[1;33m\u001b[0m\u001b[0m\n\u001b[0m",
      "\u001b[1;31mNameError\u001b[0m: name 'census_pd' is not defined"
     ]
    }
   ],
   "source": [
    "# Save as a csv\n",
    "# Note to avoid any issues later, use encoding=\"utf-8\"\n",
    "census_pd.to_csv(\"census_data_2022.csv\", encoding=\"utf-8\", index=False)"
   ]
  }
 ],
 "metadata": {
  "kernelspec": {
   "display_name": "Python 3 (ipykernel)",
   "language": "python",
   "name": "python3"
  },
  "language_info": {
   "codemirror_mode": {
    "name": "ipython",
    "version": 3
   },
   "file_extension": ".py",
   "mimetype": "text/x-python",
   "name": "python",
   "nbconvert_exporter": "python",
   "pygments_lexer": "ipython3",
   "version": "3.7.7"
  }
 },
 "nbformat": 4,
 "nbformat_minor": 5
}
