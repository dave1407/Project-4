{
 "cells": [
  {
   "cell_type": "code",
   "execution_count": 1,
   "id": "3b959756",
   "metadata": {},
   "outputs": [],
   "source": [
    "# Dependencies\n",
    "import numpy as np\n",
    "import pandas as pd\n",
    "import matplotlib.pyplot as plt\n",
    "import pymongo\n",
    "import requests\n",
    "from census import Census\n",
    "from sklearn.model_selection import train_test_split\n",
    "from sklearn.neighbors import KNeighborsClassifier\n",
    "from sklearn.metrics import confusion_matrix, classification_report\n"
   ]
  },
  {
   "cell_type": "markdown",
   "id": "504973d3",
   "metadata": {},
   "source": [
    "# Import data from DB for modeling"
   ]
  },
  {
   "cell_type": "code",
   "execution_count": 2,
   "id": "e9f8ae4d",
   "metadata": {},
   "outputs": [],
   "source": [
    "# Initialize PyMongo to work with MongoDBs\n",
    "conn = 'mongodb://localhost:27017'\n",
    "client = pymongo.MongoClient(conn)"
   ]
  },
  {
   "cell_type": "code",
   "execution_count": 3,
   "id": "bbcc39be",
   "metadata": {},
   "outputs": [],
   "source": [
    "results = client.census_DB.census.find()\n",
    "cluster_data = []\n",
    "for result in results:\n",
    "    del result['_id']\n",
    "    cluster_data.append(result)"
   ]
  },
  {
   "cell_type": "code",
   "execution_count": 4,
   "id": "e86c3cd2",
   "metadata": {},
   "outputs": [
    {
     "data": {
      "text/html": [
       "<div>\n",
       "<style scoped>\n",
       "    .dataframe tbody tr th:only-of-type {\n",
       "        vertical-align: middle;\n",
       "    }\n",
       "\n",
       "    .dataframe tbody tr th {\n",
       "        vertical-align: top;\n",
       "    }\n",
       "\n",
       "    .dataframe thead th {\n",
       "        text-align: right;\n",
       "    }\n",
       "</style>\n",
       "<table border=\"1\" class=\"dataframe\">\n",
       "  <thead>\n",
       "    <tr style=\"text-align: right;\">\n",
       "      <th></th>\n",
       "      <th>year</th>\n",
       "      <th>state</th>\n",
       "      <th>state_po</th>\n",
       "      <th>county_name</th>\n",
       "      <th>Population</th>\n",
       "      <th>Median Age</th>\n",
       "      <th>Household Income</th>\n",
       "      <th>Per Capita Income</th>\n",
       "      <th>Poverty Rate</th>\n",
       "      <th>Winner</th>\n",
       "    </tr>\n",
       "  </thead>\n",
       "  <tbody>\n",
       "    <tr>\n",
       "      <th>0</th>\n",
       "      <td>2012</td>\n",
       "      <td>MISSOURI</td>\n",
       "      <td>MO</td>\n",
       "      <td>LINN</td>\n",
       "      <td>12668.0</td>\n",
       "      <td>43.0</td>\n",
       "      <td>39028.0</td>\n",
       "      <td>20968.0</td>\n",
       "      <td>13.245974</td>\n",
       "      <td>Republican</td>\n",
       "    </tr>\n",
       "    <tr>\n",
       "      <th>1</th>\n",
       "      <td>2012</td>\n",
       "      <td>MISSOURI</td>\n",
       "      <td>MO</td>\n",
       "      <td>HOWELL</td>\n",
       "      <td>40330.0</td>\n",
       "      <td>39.6</td>\n",
       "      <td>34148.0</td>\n",
       "      <td>17763.0</td>\n",
       "      <td>20.300025</td>\n",
       "      <td>Republican</td>\n",
       "    </tr>\n",
       "    <tr>\n",
       "      <th>2</th>\n",
       "      <td>2012</td>\n",
       "      <td>MISSOURI</td>\n",
       "      <td>MO</td>\n",
       "      <td>JOHNSON</td>\n",
       "      <td>52964.0</td>\n",
       "      <td>29.7</td>\n",
       "      <td>47960.0</td>\n",
       "      <td>21375.0</td>\n",
       "      <td>15.246205</td>\n",
       "      <td>Republican</td>\n",
       "    </tr>\n",
       "    <tr>\n",
       "      <th>3</th>\n",
       "      <td>2012</td>\n",
       "      <td>MISSOURI</td>\n",
       "      <td>MO</td>\n",
       "      <td>LACLEDE</td>\n",
       "      <td>35507.0</td>\n",
       "      <td>39.1</td>\n",
       "      <td>39101.0</td>\n",
       "      <td>19788.0</td>\n",
       "      <td>18.244290</td>\n",
       "      <td>Republican</td>\n",
       "    </tr>\n",
       "    <tr>\n",
       "      <th>4</th>\n",
       "      <td>2012</td>\n",
       "      <td>MISSOURI</td>\n",
       "      <td>MO</td>\n",
       "      <td>MARIES</td>\n",
       "      <td>9140.0</td>\n",
       "      <td>43.1</td>\n",
       "      <td>44885.0</td>\n",
       "      <td>21883.0</td>\n",
       "      <td>14.070022</td>\n",
       "      <td>Republican</td>\n",
       "    </tr>\n",
       "    <tr>\n",
       "      <th>...</th>\n",
       "      <td>...</td>\n",
       "      <td>...</td>\n",
       "      <td>...</td>\n",
       "      <td>...</td>\n",
       "      <td>...</td>\n",
       "      <td>...</td>\n",
       "      <td>...</td>\n",
       "      <td>...</td>\n",
       "      <td>...</td>\n",
       "      <td>...</td>\n",
       "    </tr>\n",
       "    <tr>\n",
       "      <th>9002</th>\n",
       "      <td>2020</td>\n",
       "      <td>MINNESOTA</td>\n",
       "      <td>MN</td>\n",
       "      <td>RENVILLE</td>\n",
       "      <td>14572.0</td>\n",
       "      <td>44.0</td>\n",
       "      <td>58542.0</td>\n",
       "      <td>31243.0</td>\n",
       "      <td>9.422180</td>\n",
       "      <td>Republican</td>\n",
       "    </tr>\n",
       "    <tr>\n",
       "      <th>9003</th>\n",
       "      <td>2020</td>\n",
       "      <td>MINNESOTA</td>\n",
       "      <td>MN</td>\n",
       "      <td>ROSEAU</td>\n",
       "      <td>15259.0</td>\n",
       "      <td>41.6</td>\n",
       "      <td>62304.0</td>\n",
       "      <td>31452.0</td>\n",
       "      <td>7.425126</td>\n",
       "      <td>Republican</td>\n",
       "    </tr>\n",
       "    <tr>\n",
       "      <th>9004</th>\n",
       "      <td>2020</td>\n",
       "      <td>MINNESOTA</td>\n",
       "      <td>MN</td>\n",
       "      <td>SHERBURNE</td>\n",
       "      <td>96015.0</td>\n",
       "      <td>36.1</td>\n",
       "      <td>88671.0</td>\n",
       "      <td>36022.0</td>\n",
       "      <td>5.158569</td>\n",
       "      <td>Republican</td>\n",
       "    </tr>\n",
       "    <tr>\n",
       "      <th>9005</th>\n",
       "      <td>2020</td>\n",
       "      <td>MINNESOTA</td>\n",
       "      <td>MN</td>\n",
       "      <td>STEELE</td>\n",
       "      <td>36710.0</td>\n",
       "      <td>39.2</td>\n",
       "      <td>68172.0</td>\n",
       "      <td>34648.0</td>\n",
       "      <td>7.864342</td>\n",
       "      <td>Republican</td>\n",
       "    </tr>\n",
       "    <tr>\n",
       "      <th>9006</th>\n",
       "      <td>2020</td>\n",
       "      <td>MINNESOTA</td>\n",
       "      <td>MN</td>\n",
       "      <td>TODD</td>\n",
       "      <td>24603.0</td>\n",
       "      <td>43.9</td>\n",
       "      <td>54502.0</td>\n",
       "      <td>26427.0</td>\n",
       "      <td>13.315449</td>\n",
       "      <td>Republican</td>\n",
       "    </tr>\n",
       "  </tbody>\n",
       "</table>\n",
       "<p>9007 rows × 10 columns</p>\n",
       "</div>"
      ],
      "text/plain": [
       "      year      state state_po county_name  Population  Median Age  \\\n",
       "0     2012   MISSOURI       MO        LINN     12668.0        43.0   \n",
       "1     2012   MISSOURI       MO      HOWELL     40330.0        39.6   \n",
       "2     2012   MISSOURI       MO     JOHNSON     52964.0        29.7   \n",
       "3     2012   MISSOURI       MO     LACLEDE     35507.0        39.1   \n",
       "4     2012   MISSOURI       MO      MARIES      9140.0        43.1   \n",
       "...    ...        ...      ...         ...         ...         ...   \n",
       "9002  2020  MINNESOTA       MN    RENVILLE     14572.0        44.0   \n",
       "9003  2020  MINNESOTA       MN      ROSEAU     15259.0        41.6   \n",
       "9004  2020  MINNESOTA       MN   SHERBURNE     96015.0        36.1   \n",
       "9005  2020  MINNESOTA       MN      STEELE     36710.0        39.2   \n",
       "9006  2020  MINNESOTA       MN        TODD     24603.0        43.9   \n",
       "\n",
       "      Household Income  Per Capita Income  Poverty Rate      Winner  \n",
       "0              39028.0            20968.0     13.245974  Republican  \n",
       "1              34148.0            17763.0     20.300025  Republican  \n",
       "2              47960.0            21375.0     15.246205  Republican  \n",
       "3              39101.0            19788.0     18.244290  Republican  \n",
       "4              44885.0            21883.0     14.070022  Republican  \n",
       "...                ...                ...           ...         ...  \n",
       "9002           58542.0            31243.0      9.422180  Republican  \n",
       "9003           62304.0            31452.0      7.425126  Republican  \n",
       "9004           88671.0            36022.0      5.158569  Republican  \n",
       "9005           68172.0            34648.0      7.864342  Republican  \n",
       "9006           54502.0            26427.0     13.315449  Republican  \n",
       "\n",
       "[9007 rows x 10 columns]"
      ]
     },
     "execution_count": 4,
     "metadata": {},
     "output_type": "execute_result"
    }
   ],
   "source": [
    "cleaned_census_data = pd.DataFrame(cluster_data)\n",
    "cleaned_census_data"
   ]
  },
  {
   "cell_type": "markdown",
   "id": "28d6846b",
   "metadata": {},
   "source": [
    "# Shape Data for Modeling"
   ]
  },
  {
   "cell_type": "code",
   "execution_count": 5,
   "id": "a2e0ee83",
   "metadata": {},
   "outputs": [
    {
     "data": {
      "text/html": [
       "<div>\n",
       "<style scoped>\n",
       "    .dataframe tbody tr th:only-of-type {\n",
       "        vertical-align: middle;\n",
       "    }\n",
       "\n",
       "    .dataframe tbody tr th {\n",
       "        vertical-align: top;\n",
       "    }\n",
       "\n",
       "    .dataframe thead th {\n",
       "        text-align: right;\n",
       "    }\n",
       "</style>\n",
       "<table border=\"1\" class=\"dataframe\">\n",
       "  <thead>\n",
       "    <tr style=\"text-align: right;\">\n",
       "      <th></th>\n",
       "      <th>year</th>\n",
       "      <th>state</th>\n",
       "      <th>state_po</th>\n",
       "      <th>county_name</th>\n",
       "      <th>Population</th>\n",
       "      <th>Median Age</th>\n",
       "      <th>Household Income</th>\n",
       "      <th>Per Capita Income</th>\n",
       "      <th>Poverty Rate</th>\n",
       "      <th>Winner</th>\n",
       "    </tr>\n",
       "  </thead>\n",
       "  <tbody>\n",
       "    <tr>\n",
       "      <th>0</th>\n",
       "      <td>2012</td>\n",
       "      <td>MISSOURI</td>\n",
       "      <td>MO</td>\n",
       "      <td>LINN</td>\n",
       "      <td>12668.0</td>\n",
       "      <td>43.0</td>\n",
       "      <td>39028.0</td>\n",
       "      <td>20968.0</td>\n",
       "      <td>13.245974</td>\n",
       "      <td>Republican</td>\n",
       "    </tr>\n",
       "    <tr>\n",
       "      <th>1</th>\n",
       "      <td>2012</td>\n",
       "      <td>MISSOURI</td>\n",
       "      <td>MO</td>\n",
       "      <td>HOWELL</td>\n",
       "      <td>40330.0</td>\n",
       "      <td>39.6</td>\n",
       "      <td>34148.0</td>\n",
       "      <td>17763.0</td>\n",
       "      <td>20.300025</td>\n",
       "      <td>Republican</td>\n",
       "    </tr>\n",
       "    <tr>\n",
       "      <th>2</th>\n",
       "      <td>2012</td>\n",
       "      <td>MISSOURI</td>\n",
       "      <td>MO</td>\n",
       "      <td>JOHNSON</td>\n",
       "      <td>52964.0</td>\n",
       "      <td>29.7</td>\n",
       "      <td>47960.0</td>\n",
       "      <td>21375.0</td>\n",
       "      <td>15.246205</td>\n",
       "      <td>Republican</td>\n",
       "    </tr>\n",
       "    <tr>\n",
       "      <th>3</th>\n",
       "      <td>2012</td>\n",
       "      <td>MISSOURI</td>\n",
       "      <td>MO</td>\n",
       "      <td>LACLEDE</td>\n",
       "      <td>35507.0</td>\n",
       "      <td>39.1</td>\n",
       "      <td>39101.0</td>\n",
       "      <td>19788.0</td>\n",
       "      <td>18.244290</td>\n",
       "      <td>Republican</td>\n",
       "    </tr>\n",
       "    <tr>\n",
       "      <th>4</th>\n",
       "      <td>2012</td>\n",
       "      <td>MISSOURI</td>\n",
       "      <td>MO</td>\n",
       "      <td>MARIES</td>\n",
       "      <td>9140.0</td>\n",
       "      <td>43.1</td>\n",
       "      <td>44885.0</td>\n",
       "      <td>21883.0</td>\n",
       "      <td>14.070022</td>\n",
       "      <td>Republican</td>\n",
       "    </tr>\n",
       "    <tr>\n",
       "      <th>...</th>\n",
       "      <td>...</td>\n",
       "      <td>...</td>\n",
       "      <td>...</td>\n",
       "      <td>...</td>\n",
       "      <td>...</td>\n",
       "      <td>...</td>\n",
       "      <td>...</td>\n",
       "      <td>...</td>\n",
       "      <td>...</td>\n",
       "      <td>...</td>\n",
       "    </tr>\n",
       "    <tr>\n",
       "      <th>6001</th>\n",
       "      <td>2016</td>\n",
       "      <td>MICHIGAN</td>\n",
       "      <td>MI</td>\n",
       "      <td>WEXFORD</td>\n",
       "      <td>32829.0</td>\n",
       "      <td>41.9</td>\n",
       "      <td>40417.0</td>\n",
       "      <td>21200.0</td>\n",
       "      <td>18.520211</td>\n",
       "      <td>Republican</td>\n",
       "    </tr>\n",
       "    <tr>\n",
       "      <th>6002</th>\n",
       "      <td>2016</td>\n",
       "      <td>MICHIGAN</td>\n",
       "      <td>MI</td>\n",
       "      <td>CLINTON</td>\n",
       "      <td>77245.0</td>\n",
       "      <td>40.4</td>\n",
       "      <td>62646.0</td>\n",
       "      <td>31170.0</td>\n",
       "      <td>11.217555</td>\n",
       "      <td>Republican</td>\n",
       "    </tr>\n",
       "    <tr>\n",
       "      <th>6003</th>\n",
       "      <td>2016</td>\n",
       "      <td>MICHIGAN</td>\n",
       "      <td>MI</td>\n",
       "      <td>DICKINSON</td>\n",
       "      <td>25889.0</td>\n",
       "      <td>46.5</td>\n",
       "      <td>43373.0</td>\n",
       "      <td>25136.0</td>\n",
       "      <td>14.369037</td>\n",
       "      <td>Republican</td>\n",
       "    </tr>\n",
       "    <tr>\n",
       "      <th>6004</th>\n",
       "      <td>2016</td>\n",
       "      <td>MICHIGAN</td>\n",
       "      <td>MI</td>\n",
       "      <td>HURON</td>\n",
       "      <td>32021.0</td>\n",
       "      <td>48.3</td>\n",
       "      <td>43082.0</td>\n",
       "      <td>24455.0</td>\n",
       "      <td>13.737860</td>\n",
       "      <td>Republican</td>\n",
       "    </tr>\n",
       "    <tr>\n",
       "      <th>6005</th>\n",
       "      <td>2016</td>\n",
       "      <td>MICHIGAN</td>\n",
       "      <td>MI</td>\n",
       "      <td>INGHAM</td>\n",
       "      <td>284559.0</td>\n",
       "      <td>31.6</td>\n",
       "      <td>46842.0</td>\n",
       "      <td>26083.0</td>\n",
       "      <td>20.784793</td>\n",
       "      <td>Democrat</td>\n",
       "    </tr>\n",
       "  </tbody>\n",
       "</table>\n",
       "<p>6006 rows × 10 columns</p>\n",
       "</div>"
      ],
      "text/plain": [
       "      year     state state_po county_name  Population  Median Age  \\\n",
       "0     2012  MISSOURI       MO        LINN     12668.0        43.0   \n",
       "1     2012  MISSOURI       MO      HOWELL     40330.0        39.6   \n",
       "2     2012  MISSOURI       MO     JOHNSON     52964.0        29.7   \n",
       "3     2012  MISSOURI       MO     LACLEDE     35507.0        39.1   \n",
       "4     2012  MISSOURI       MO      MARIES      9140.0        43.1   \n",
       "...    ...       ...      ...         ...         ...         ...   \n",
       "6001  2016  MICHIGAN       MI     WEXFORD     32829.0        41.9   \n",
       "6002  2016  MICHIGAN       MI     CLINTON     77245.0        40.4   \n",
       "6003  2016  MICHIGAN       MI   DICKINSON     25889.0        46.5   \n",
       "6004  2016  MICHIGAN       MI       HURON     32021.0        48.3   \n",
       "6005  2016  MICHIGAN       MI      INGHAM    284559.0        31.6   \n",
       "\n",
       "      Household Income  Per Capita Income  Poverty Rate      Winner  \n",
       "0              39028.0            20968.0     13.245974  Republican  \n",
       "1              34148.0            17763.0     20.300025  Republican  \n",
       "2              47960.0            21375.0     15.246205  Republican  \n",
       "3              39101.0            19788.0     18.244290  Republican  \n",
       "4              44885.0            21883.0     14.070022  Republican  \n",
       "...                ...                ...           ...         ...  \n",
       "6001           40417.0            21200.0     18.520211  Republican  \n",
       "6002           62646.0            31170.0     11.217555  Republican  \n",
       "6003           43373.0            25136.0     14.369037  Republican  \n",
       "6004           43082.0            24455.0     13.737860  Republican  \n",
       "6005           46842.0            26083.0     20.784793    Democrat  \n",
       "\n",
       "[6006 rows x 10 columns]"
      ]
     },
     "execution_count": 5,
     "metadata": {},
     "output_type": "execute_result"
    }
   ],
   "source": [
    "test_train_df = cleaned_census_data[(cleaned_census_data['year']==2012) | (cleaned_census_data['year']==2016 )]\n",
    "test_train_df"
   ]
  },
  {
   "cell_type": "code",
   "execution_count": 6,
   "id": "7d5f1457",
   "metadata": {},
   "outputs": [
    {
     "data": {
      "text/html": [
       "<div>\n",
       "<style scoped>\n",
       "    .dataframe tbody tr th:only-of-type {\n",
       "        vertical-align: middle;\n",
       "    }\n",
       "\n",
       "    .dataframe tbody tr th {\n",
       "        vertical-align: top;\n",
       "    }\n",
       "\n",
       "    .dataframe thead th {\n",
       "        text-align: right;\n",
       "    }\n",
       "</style>\n",
       "<table border=\"1\" class=\"dataframe\">\n",
       "  <thead>\n",
       "    <tr style=\"text-align: right;\">\n",
       "      <th></th>\n",
       "      <th>Population</th>\n",
       "      <th>Median Age</th>\n",
       "      <th>Household Income</th>\n",
       "      <th>Per Capita Income</th>\n",
       "      <th>Poverty Rate</th>\n",
       "    </tr>\n",
       "  </thead>\n",
       "  <tbody>\n",
       "    <tr>\n",
       "      <th>0</th>\n",
       "      <td>12668.0</td>\n",
       "      <td>43.0</td>\n",
       "      <td>39028.0</td>\n",
       "      <td>20968.0</td>\n",
       "      <td>13.245974</td>\n",
       "    </tr>\n",
       "    <tr>\n",
       "      <th>1</th>\n",
       "      <td>40330.0</td>\n",
       "      <td>39.6</td>\n",
       "      <td>34148.0</td>\n",
       "      <td>17763.0</td>\n",
       "      <td>20.300025</td>\n",
       "    </tr>\n",
       "    <tr>\n",
       "      <th>2</th>\n",
       "      <td>52964.0</td>\n",
       "      <td>29.7</td>\n",
       "      <td>47960.0</td>\n",
       "      <td>21375.0</td>\n",
       "      <td>15.246205</td>\n",
       "    </tr>\n",
       "    <tr>\n",
       "      <th>3</th>\n",
       "      <td>35507.0</td>\n",
       "      <td>39.1</td>\n",
       "      <td>39101.0</td>\n",
       "      <td>19788.0</td>\n",
       "      <td>18.244290</td>\n",
       "    </tr>\n",
       "    <tr>\n",
       "      <th>4</th>\n",
       "      <td>9140.0</td>\n",
       "      <td>43.1</td>\n",
       "      <td>44885.0</td>\n",
       "      <td>21883.0</td>\n",
       "      <td>14.070022</td>\n",
       "    </tr>\n",
       "  </tbody>\n",
       "</table>\n",
       "</div>"
      ],
      "text/plain": [
       "   Population  Median Age  Household Income  Per Capita Income  Poverty Rate\n",
       "0     12668.0        43.0           39028.0            20968.0     13.245974\n",
       "1     40330.0        39.6           34148.0            17763.0     20.300025\n",
       "2     52964.0        29.7           47960.0            21375.0     15.246205\n",
       "3     35507.0        39.1           39101.0            19788.0     18.244290\n",
       "4      9140.0        43.1           44885.0            21883.0     14.070022"
      ]
     },
     "execution_count": 6,
     "metadata": {},
     "output_type": "execute_result"
    }
   ],
   "source": [
    "X = test_train_df.drop(['year','state_po','state', 'county_name','Winner'], axis=1)\n",
    "X.head()"
   ]
  },
  {
   "cell_type": "code",
   "execution_count": 7,
   "id": "638466f5",
   "metadata": {},
   "outputs": [
    {
     "data": {
      "text/plain": [
       "array(['Republican', 'Republican', 'Republican', ..., 'Republican',\n",
       "       'Republican', 'Democrat'], dtype=object)"
      ]
     },
     "execution_count": 7,
     "metadata": {},
     "output_type": "execute_result"
    }
   ],
   "source": [
    "y = test_train_df[\"Winner\"].values\n",
    "y"
   ]
  },
  {
   "cell_type": "code",
   "execution_count": 8,
   "id": "08b338a9",
   "metadata": {},
   "outputs": [],
   "source": [
    "X_train, X_test, y_train, y_test = train_test_split(X, y, random_state=1)"
   ]
  },
  {
   "cell_type": "code",
   "execution_count": 9,
   "id": "9bfa9bbd",
   "metadata": {},
   "outputs": [
    {
     "data": {
      "text/plain": [
       "StandardScaler()"
      ]
     },
     "execution_count": 9,
     "metadata": {},
     "output_type": "execute_result"
    }
   ],
   "source": [
    "from sklearn.preprocessing import StandardScaler\n",
    "\n",
    "# Create a StandardScater model and fit it to the training data\n",
    "\n",
    "X_scaler = StandardScaler()\n",
    "X_scaler.fit(X_train)"
   ]
  },
  {
   "cell_type": "code",
   "execution_count": 10,
   "id": "a109adff",
   "metadata": {},
   "outputs": [],
   "source": [
    "# Transform the training and testing data by using the X_scaler and y_scaler models\n",
    "\n",
    "X_train_scaled = X_scaler.transform(X_train)\n",
    "X_test_scaled = X_scaler.transform(X_test)"
   ]
  },
  {
   "cell_type": "markdown",
   "id": "13dcb267",
   "metadata": {},
   "source": [
    "# Build KNN Model"
   ]
  },
  {
   "cell_type": "code",
   "execution_count": 11,
   "id": "559bbc5c",
   "metadata": {},
   "outputs": [
    {
     "name": "stdout",
     "output_type": "stream",
     "text": [
      "k: 1, Train/Test Score: 1.000/0.804\n",
      "k: 3, Train/Test Score: 0.905/0.852\n",
      "k: 5, Train/Test Score: 0.885/0.862\n",
      "k: 7, Train/Test Score: 0.876/0.865\n",
      "k: 9, Train/Test Score: 0.875/0.865\n",
      "k: 11, Train/Test Score: 0.871/0.864\n",
      "k: 13, Train/Test Score: 0.869/0.865\n",
      "k: 15, Train/Test Score: 0.871/0.864\n",
      "k: 17, Train/Test Score: 0.868/0.862\n",
      "k: 19, Train/Test Score: 0.869/0.866\n"
     ]
    },
    {
     "data": {
      "image/png": "[encoded data removed]",
      "text/plain": [
       "<Figure size 432x288 with 1 Axes>"
      ]
     },
     "metadata": {
      "needs_background": "light"
     },
     "output_type": "display_data"
    }
   ],
   "source": [
    "# Loop through different k values to find which has the highest accuracy.\n",
    "# Note: We use only odd numbers because we don't want any ties.\n",
    "train_scores = []\n",
    "test_scores = []\n",
    "for k in range(1, 20, 2):\n",
    "    knn = KNeighborsClassifier(n_neighbors=k)\n",
    "    knn.fit(X_train_scaled, y_train)\n",
    "    train_score = knn.score(X_train_scaled, y_train)\n",
    "    test_score = knn.score(X_test_scaled, y_test)\n",
    "    train_scores.append(train_score)\n",
    "    test_scores.append(test_score)\n",
    "    print(f\"k: {k}, Train/Test Score: {train_score:.3f}/{test_score:.3f}\")\n",
    "    \n",
    "    \n",
    "plt.plot(range(1, 20, 2), train_scores, marker='o')\n",
    "plt.plot(range(1, 20, 2), test_scores, marker=\"x\")\n",
    "plt.xlabel(\"k neighbors\")\n",
    "plt.ylabel(\"Testing accuracy score\")\n",
    "plt.show()"
   ]
  },
  {
   "cell_type": "code",
   "execution_count": 12,
   "id": "0272e423",
   "metadata": {},
   "outputs": [
    {
     "name": "stdout",
     "output_type": "stream",
     "text": [
      "k=12 Test Acc: 0.866\n"
     ]
    }
   ],
   "source": [
    "# Note that k: 12 seems to be the best choice for this dataset\n",
    "knn = KNeighborsClassifier(n_neighbors=12)\n",
    "knn.fit(X_train_scaled, y_train)\n",
    "print('k=12 Test Acc: %.3f' % knn.score(X_test_scaled, y_test))"
   ]
  },
  {
   "cell_type": "code",
   "execution_count": 13,
   "id": "9753bc15",
   "metadata": {},
   "outputs": [
    {
     "data": {
      "text/plain": [
       "array(['Republican', 'Republican', 'Republican', ..., 'Republican',\n",
       "       'Republican', 'Republican'], dtype=object)"
      ]
     },
     "execution_count": 13,
     "metadata": {},
     "output_type": "execute_result"
    }
   ],
   "source": [
    "y_true = y_test\n",
    "y_pred = knn.predict(X_test_scaled)\n",
    "y_pred"
   ]
  },
  {
   "cell_type": "code",
   "execution_count": 14,
   "id": "e77dee25",
   "metadata": {},
   "outputs": [
    {
     "data": {
      "text/plain": [
       "array([[ 107,  160],\n",
       "       [  41, 1194]], dtype=int64)"
      ]
     },
     "execution_count": 14,
     "metadata": {},
     "output_type": "execute_result"
    }
   ],
   "source": [
    "confusion_matrix(y_true, y_pred)"
   ]
  },
  {
   "cell_type": "code",
   "execution_count": 15,
   "id": "fea7aba3",
   "metadata": {},
   "outputs": [
    {
     "name": "stdout",
     "output_type": "stream",
     "text": [
      "              precision    recall  f1-score   support\n",
      "\n",
      "    Democrat       0.72      0.40      0.52       267\n",
      "  Republican       0.88      0.97      0.92      1235\n",
      "\n",
      "    accuracy                           0.87      1502\n",
      "   macro avg       0.80      0.68      0.72      1502\n",
      "weighted avg       0.85      0.87      0.85      1502\n",
      "\n"
     ]
    }
   ],
   "source": [
    "print(classification_report(y_true, y_pred))"
   ]
  },
  {
   "cell_type": "markdown",
   "id": "46ef1b91",
   "metadata": {},
   "source": [
    "# Predict KNN Model"
   ]
  },
  {
   "cell_type": "code",
   "execution_count": 16,
   "id": "3e87e023",
   "metadata": {},
   "outputs": [
    {
     "data": {
      "text/plain": [
       "Republican    2509\n",
       "Democrat       492\n",
       "Name: Winner, dtype: int64"
      ]
     },
     "execution_count": 16,
     "metadata": {},
     "output_type": "execute_result"
    }
   ],
   "source": [
    "predict_df = cleaned_census_data[(cleaned_census_data['year']==2020)].reset_index().drop(['index'], axis=1)\n",
    "predict_df['Winner'].value_counts()"
   ]
  },
  {
   "cell_type": "code",
   "execution_count": 17,
   "id": "609ec200",
   "metadata": {},
   "outputs": [
    {
     "data": {
      "text/html": [
       "<div>\n",
       "<style scoped>\n",
       "    .dataframe tbody tr th:only-of-type {\n",
       "        vertical-align: middle;\n",
       "    }\n",
       "\n",
       "    .dataframe tbody tr th {\n",
       "        vertical-align: top;\n",
       "    }\n",
       "\n",
       "    .dataframe thead th {\n",
       "        text-align: right;\n",
       "    }\n",
       "</style>\n",
       "<table border=\"1\" class=\"dataframe\">\n",
       "  <thead>\n",
       "    <tr style=\"text-align: right;\">\n",
       "      <th></th>\n",
       "      <th>Population</th>\n",
       "      <th>Median Age</th>\n",
       "      <th>Household Income</th>\n",
       "      <th>Per Capita Income</th>\n",
       "      <th>Poverty Rate</th>\n",
       "    </tr>\n",
       "  </thead>\n",
       "  <tbody>\n",
       "    <tr>\n",
       "      <th>0</th>\n",
       "      <td>55639.0</td>\n",
       "      <td>38.6</td>\n",
       "      <td>57982.0</td>\n",
       "      <td>29804.0</td>\n",
       "      <td>15.086540</td>\n",
       "    </tr>\n",
       "    <tr>\n",
       "      <th>1</th>\n",
       "      <td>218289.0</td>\n",
       "      <td>43.2</td>\n",
       "      <td>61756.0</td>\n",
       "      <td>33751.0</td>\n",
       "      <td>9.042599</td>\n",
       "    </tr>\n",
       "    <tr>\n",
       "      <th>2</th>\n",
       "      <td>25026.0</td>\n",
       "      <td>40.1</td>\n",
       "      <td>34990.0</td>\n",
       "      <td>20074.0</td>\n",
       "      <td>25.221769</td>\n",
       "    </tr>\n",
       "    <tr>\n",
       "      <th>3</th>\n",
       "      <td>22374.0</td>\n",
       "      <td>39.9</td>\n",
       "      <td>51721.0</td>\n",
       "      <td>22626.0</td>\n",
       "      <td>16.782873</td>\n",
       "    </tr>\n",
       "    <tr>\n",
       "      <th>4</th>\n",
       "      <td>57755.0</td>\n",
       "      <td>41.0</td>\n",
       "      <td>48922.0</td>\n",
       "      <td>25457.0</td>\n",
       "      <td>13.586702</td>\n",
       "    </tr>\n",
       "    <tr>\n",
       "      <th>...</th>\n",
       "      <td>...</td>\n",
       "      <td>...</td>\n",
       "      <td>...</td>\n",
       "      <td>...</td>\n",
       "      <td>...</td>\n",
       "    </tr>\n",
       "    <tr>\n",
       "      <th>2996</th>\n",
       "      <td>14572.0</td>\n",
       "      <td>44.0</td>\n",
       "      <td>58542.0</td>\n",
       "      <td>31243.0</td>\n",
       "      <td>9.422180</td>\n",
       "    </tr>\n",
       "    <tr>\n",
       "      <th>2997</th>\n",
       "      <td>15259.0</td>\n",
       "      <td>41.6</td>\n",
       "      <td>62304.0</td>\n",
       "      <td>31452.0</td>\n",
       "      <td>7.425126</td>\n",
       "    </tr>\n",
       "    <tr>\n",
       "      <th>2998</th>\n",
       "      <td>96015.0</td>\n",
       "      <td>36.1</td>\n",
       "      <td>88671.0</td>\n",
       "      <td>36022.0</td>\n",
       "      <td>5.158569</td>\n",
       "    </tr>\n",
       "    <tr>\n",
       "      <th>2999</th>\n",
       "      <td>36710.0</td>\n",
       "      <td>39.2</td>\n",
       "      <td>68172.0</td>\n",
       "      <td>34648.0</td>\n",
       "      <td>7.864342</td>\n",
       "    </tr>\n",
       "    <tr>\n",
       "      <th>3000</th>\n",
       "      <td>24603.0</td>\n",
       "      <td>43.9</td>\n",
       "      <td>54502.0</td>\n",
       "      <td>26427.0</td>\n",
       "      <td>13.315449</td>\n",
       "    </tr>\n",
       "  </tbody>\n",
       "</table>\n",
       "<p>3001 rows × 5 columns</p>\n",
       "</div>"
      ],
      "text/plain": [
       "      Population  Median Age  Household Income  Per Capita Income  \\\n",
       "0        55639.0        38.6           57982.0            29804.0   \n",
       "1       218289.0        43.2           61756.0            33751.0   \n",
       "2        25026.0        40.1           34990.0            20074.0   \n",
       "3        22374.0        39.9           51721.0            22626.0   \n",
       "4        57755.0        41.0           48922.0            25457.0   \n",
       "...          ...         ...               ...                ...   \n",
       "2996     14572.0        44.0           58542.0            31243.0   \n",
       "2997     15259.0        41.6           62304.0            31452.0   \n",
       "2998     96015.0        36.1           88671.0            36022.0   \n",
       "2999     36710.0        39.2           68172.0            34648.0   \n",
       "3000     24603.0        43.9           54502.0            26427.0   \n",
       "\n",
       "      Poverty Rate  \n",
       "0        15.086540  \n",
       "1         9.042599  \n",
       "2        25.221769  \n",
       "3        16.782873  \n",
       "4        13.586702  \n",
       "...            ...  \n",
       "2996      9.422180  \n",
       "2997      7.425126  \n",
       "2998      5.158569  \n",
       "2999      7.864342  \n",
       "3000     13.315449  \n",
       "\n",
       "[3001 rows x 5 columns]"
      ]
     },
     "execution_count": 17,
     "metadata": {},
     "output_type": "execute_result"
    }
   ],
   "source": [
    "X_predict_2020 = predict_df.drop(['year','state_po','state','county_name','Winner'], axis=1)\n",
    "\n",
    "X_predict_2020"
   ]
  },
  {
   "cell_type": "code",
   "execution_count": 18,
   "id": "1fa7f177",
   "metadata": {},
   "outputs": [
    {
     "data": {
      "text/plain": [
       "array(['Republican', 'Democrat', 'Republican', ..., 'Republican',\n",
       "       'Republican', 'Republican'], dtype=object)"
      ]
     },
     "execution_count": 18,
     "metadata": {},
     "output_type": "execute_result"
    }
   ],
   "source": [
    "X_scaled_2020 = X_scaler.transform(X_predict_2020)\n",
    "y_pred = knn.predict(X_scaled_2020)\n",
    "pd.Series(y_pred).value_counts()\n",
    "y_pred\n"
   ]
  },
  {
   "cell_type": "markdown",
   "id": "86cdf89e",
   "metadata": {},
   "source": [
    "# Comparing results of actuals and predicted KNN Model"
   ]
  },
  {
   "cell_type": "code",
   "execution_count": 19,
   "id": "f55ed231",
   "metadata": {},
   "outputs": [
    {
     "data": {
      "text/plain": [
       "True     2628\n",
       "False     373\n",
       "dtype: int64"
      ]
     },
     "execution_count": 19,
     "metadata": {},
     "output_type": "execute_result"
    }
   ],
   "source": [
    "y_actual = predict_df['Winner']\n",
    "y_pred_series = pd.Series(y_pred)\n",
    "#y_actual.head()\n",
    "(y_pred_series == y_actual).value_counts()\n"
   ]
  },
  {
   "cell_type": "code",
   "execution_count": 20,
   "id": "76190ca9",
   "metadata": {},
   "outputs": [
    {
     "name": "stdout",
     "output_type": "stream",
     "text": [
      "              precision    recall  f1-score   support\n",
      "\n",
      "    Democrat       0.65      0.53      0.58       492\n",
      "  Republican       0.91      0.94      0.93      2509\n",
      "\n",
      "    accuracy                           0.88      3001\n",
      "   macro avg       0.78      0.74      0.75      3001\n",
      "weighted avg       0.87      0.88      0.87      3001\n",
      "\n"
     ]
    }
   ],
   "source": [
    "print(classification_report(y_actual, y_pred))\n"
   ]
  }
 ],
 "metadata": {
  "kernelspec": {
   "display_name": "Python 3 (ipykernel)",
   "language": "python",
   "name": "python3"
  },
  "language_info": {
   "codemirror_mode": {
    "name": "ipython",
    "version": 3
   },
   "file_extension": ".py",
   "mimetype": "text/x-python",
   "name": "python",
   "nbconvert_exporter": "python",
   "pygments_lexer": "ipython3",
   "version": "3.7.7"
  }
 },
 "nbformat": 4,
 "nbformat_minor": 5
}
