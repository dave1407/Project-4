{
 "cells": [
  {
   "cell_type": "markdown",
   "id": "cf2cac44",
   "metadata": {},
   "source": [
    "Random Forest Model"
   ]
  },
  {
   "cell_type": "code",
   "execution_count": 1,
   "id": "33c19524",
   "metadata": {},
   "outputs": [],
   "source": [
    "%matplotlib inline\n",
    "from matplotlib import pyplot as plt\n",
    "from sklearn.datasets import make_classification\n",
    "import numpy as np\n",
    "import pandas as pd\n",
    "from sklearn.ensemble import RandomForestClassifier\n",
    "from sklearn.linear_model import LogisticRegression\n",
    "from sklearn.model_selection import train_test_split\n",
    "from sklearn.preprocessing import StandardScaler\n",
    "import pymongo\n",
    "import requests"
   ]
  },
  {
   "cell_type": "code",
   "execution_count": 2,
   "id": "6231de92",
   "metadata": {},
   "outputs": [],
   "source": [
    "# Initialize PyMongo to work with MongoDBs\n",
    "conn = 'mongodb://localhost:27017'\n",
    "client = pymongo.MongoClient(conn)"
   ]
  },
  {
   "cell_type": "code",
   "execution_count": 3,
   "id": "b7e8b61a",
   "metadata": {},
   "outputs": [],
   "source": [
    "results = client.census_DB.census.find()\n",
    "cluster_data = []\n",
    "for result in results:\n",
    "    del result['_id']\n",
    "    cluster_data.append(result)"
   ]
  },
  {
   "cell_type": "code",
   "execution_count": 4,
   "id": "214a71da",
   "metadata": {},
   "outputs": [
    {
     "data": {
      "text/html": [
       "<div>\n",
       "<style scoped>\n",
       "    .dataframe tbody tr th:only-of-type {\n",
       "        vertical-align: middle;\n",
       "    }\n",
       "\n",
       "    .dataframe tbody tr th {\n",
       "        vertical-align: top;\n",
       "    }\n",
       "\n",
       "    .dataframe thead th {\n",
       "        text-align: right;\n",
       "    }\n",
       "</style>\n",
       "<table border=\"1\" class=\"dataframe\">\n",
       "  <thead>\n",
       "    <tr style=\"text-align: right;\">\n",
       "      <th></th>\n",
       "      <th>year</th>\n",
       "      <th>state</th>\n",
       "      <th>state_po</th>\n",
       "      <th>county_name</th>\n",
       "      <th>Population</th>\n",
       "      <th>Median Age</th>\n",
       "      <th>Household Income</th>\n",
       "      <th>Per Capita Income</th>\n",
       "      <th>Poverty Rate</th>\n",
       "      <th>Winner</th>\n",
       "    </tr>\n",
       "  </thead>\n",
       "  <tbody>\n",
       "    <tr>\n",
       "      <th>0</th>\n",
       "      <td>2012</td>\n",
       "      <td>MISSOURI</td>\n",
       "      <td>MO</td>\n",
       "      <td>LINN</td>\n",
       "      <td>12668.0</td>\n",
       "      <td>43.0</td>\n",
       "      <td>39028.0</td>\n",
       "      <td>20968.0</td>\n",
       "      <td>13.245974</td>\n",
       "      <td>Republican</td>\n",
       "    </tr>\n",
       "    <tr>\n",
       "      <th>1</th>\n",
       "      <td>2012</td>\n",
       "      <td>MISSOURI</td>\n",
       "      <td>MO</td>\n",
       "      <td>HOWELL</td>\n",
       "      <td>40330.0</td>\n",
       "      <td>39.6</td>\n",
       "      <td>34148.0</td>\n",
       "      <td>17763.0</td>\n",
       "      <td>20.300025</td>\n",
       "      <td>Republican</td>\n",
       "    </tr>\n",
       "    <tr>\n",
       "      <th>2</th>\n",
       "      <td>2012</td>\n",
       "      <td>MISSOURI</td>\n",
       "      <td>MO</td>\n",
       "      <td>JOHNSON</td>\n",
       "      <td>52964.0</td>\n",
       "      <td>29.7</td>\n",
       "      <td>47960.0</td>\n",
       "      <td>21375.0</td>\n",
       "      <td>15.246205</td>\n",
       "      <td>Republican</td>\n",
       "    </tr>\n",
       "    <tr>\n",
       "      <th>3</th>\n",
       "      <td>2012</td>\n",
       "      <td>MISSOURI</td>\n",
       "      <td>MO</td>\n",
       "      <td>LACLEDE</td>\n",
       "      <td>35507.0</td>\n",
       "      <td>39.1</td>\n",
       "      <td>39101.0</td>\n",
       "      <td>19788.0</td>\n",
       "      <td>18.244290</td>\n",
       "      <td>Republican</td>\n",
       "    </tr>\n",
       "    <tr>\n",
       "      <th>4</th>\n",
       "      <td>2012</td>\n",
       "      <td>MISSOURI</td>\n",
       "      <td>MO</td>\n",
       "      <td>MARIES</td>\n",
       "      <td>9140.0</td>\n",
       "      <td>43.1</td>\n",
       "      <td>44885.0</td>\n",
       "      <td>21883.0</td>\n",
       "      <td>14.070022</td>\n",
       "      <td>Republican</td>\n",
       "    </tr>\n",
       "    <tr>\n",
       "      <th>...</th>\n",
       "      <td>...</td>\n",
       "      <td>...</td>\n",
       "      <td>...</td>\n",
       "      <td>...</td>\n",
       "      <td>...</td>\n",
       "      <td>...</td>\n",
       "      <td>...</td>\n",
       "      <td>...</td>\n",
       "      <td>...</td>\n",
       "      <td>...</td>\n",
       "    </tr>\n",
       "    <tr>\n",
       "      <th>9002</th>\n",
       "      <td>2020</td>\n",
       "      <td>MINNESOTA</td>\n",
       "      <td>MN</td>\n",
       "      <td>RENVILLE</td>\n",
       "      <td>14572.0</td>\n",
       "      <td>44.0</td>\n",
       "      <td>58542.0</td>\n",
       "      <td>31243.0</td>\n",
       "      <td>9.422180</td>\n",
       "      <td>Republican</td>\n",
       "    </tr>\n",
       "    <tr>\n",
       "      <th>9003</th>\n",
       "      <td>2020</td>\n",
       "      <td>MINNESOTA</td>\n",
       "      <td>MN</td>\n",
       "      <td>ROSEAU</td>\n",
       "      <td>15259.0</td>\n",
       "      <td>41.6</td>\n",
       "      <td>62304.0</td>\n",
       "      <td>31452.0</td>\n",
       "      <td>7.425126</td>\n",
       "      <td>Republican</td>\n",
       "    </tr>\n",
       "    <tr>\n",
       "      <th>9004</th>\n",
       "      <td>2020</td>\n",
       "      <td>MINNESOTA</td>\n",
       "      <td>MN</td>\n",
       "      <td>SHERBURNE</td>\n",
       "      <td>96015.0</td>\n",
       "      <td>36.1</td>\n",
       "      <td>88671.0</td>\n",
       "      <td>36022.0</td>\n",
       "      <td>5.158569</td>\n",
       "      <td>Republican</td>\n",
       "    </tr>\n",
       "    <tr>\n",
       "      <th>9005</th>\n",
       "      <td>2020</td>\n",
       "      <td>MINNESOTA</td>\n",
       "      <td>MN</td>\n",
       "      <td>STEELE</td>\n",
       "      <td>36710.0</td>\n",
       "      <td>39.2</td>\n",
       "      <td>68172.0</td>\n",
       "      <td>34648.0</td>\n",
       "      <td>7.864342</td>\n",
       "      <td>Republican</td>\n",
       "    </tr>\n",
       "    <tr>\n",
       "      <th>9006</th>\n",
       "      <td>2020</td>\n",
       "      <td>MINNESOTA</td>\n",
       "      <td>MN</td>\n",
       "      <td>TODD</td>\n",
       "      <td>24603.0</td>\n",
       "      <td>43.9</td>\n",
       "      <td>54502.0</td>\n",
       "      <td>26427.0</td>\n",
       "      <td>13.315449</td>\n",
       "      <td>Republican</td>\n",
       "    </tr>\n",
       "  </tbody>\n",
       "</table>\n",
       "<p>9007 rows × 10 columns</p>\n",
       "</div>"
      ],
      "text/plain": [
       "      year      state state_po county_name  Population  Median Age  \\\n",
       "0     2012   MISSOURI       MO        LINN     12668.0        43.0   \n",
       "1     2012   MISSOURI       MO      HOWELL     40330.0        39.6   \n",
       "2     2012   MISSOURI       MO     JOHNSON     52964.0        29.7   \n",
       "3     2012   MISSOURI       MO     LACLEDE     35507.0        39.1   \n",
       "4     2012   MISSOURI       MO      MARIES      9140.0        43.1   \n",
       "...    ...        ...      ...         ...         ...         ...   \n",
       "9002  2020  MINNESOTA       MN    RENVILLE     14572.0        44.0   \n",
       "9003  2020  MINNESOTA       MN      ROSEAU     15259.0        41.6   \n",
       "9004  2020  MINNESOTA       MN   SHERBURNE     96015.0        36.1   \n",
       "9005  2020  MINNESOTA       MN      STEELE     36710.0        39.2   \n",
       "9006  2020  MINNESOTA       MN        TODD     24603.0        43.9   \n",
       "\n",
       "      Household Income  Per Capita Income  Poverty Rate      Winner  \n",
       "0              39028.0            20968.0     13.245974  Republican  \n",
       "1              34148.0            17763.0     20.300025  Republican  \n",
       "2              47960.0            21375.0     15.246205  Republican  \n",
       "3              39101.0            19788.0     18.244290  Republican  \n",
       "4              44885.0            21883.0     14.070022  Republican  \n",
       "...                ...                ...           ...         ...  \n",
       "9002           58542.0            31243.0      9.422180  Republican  \n",
       "9003           62304.0            31452.0      7.425126  Republican  \n",
       "9004           88671.0            36022.0      5.158569  Republican  \n",
       "9005           68172.0            34648.0      7.864342  Republican  \n",
       "9006           54502.0            26427.0     13.315449  Republican  \n",
       "\n",
       "[9007 rows x 10 columns]"
      ]
     },
     "execution_count": 4,
     "metadata": {},
     "output_type": "execute_result"
    }
   ],
   "source": [
    "cleaned_census_data = pd.DataFrame(cluster_data)\n",
    "cleaned_census_data"
   ]
  },
  {
   "cell_type": "code",
   "execution_count": 5,
   "id": "ba256e1b",
   "metadata": {},
   "outputs": [],
   "source": [
    "#df = pd.read_csv('clean_data.csv')"
   ]
  },
  {
   "cell_type": "code",
   "execution_count": 6,
   "id": "069ebdb6",
   "metadata": {},
   "outputs": [
    {
     "data": {
      "text/plain": [
       "year                   int64\n",
       "state                 object\n",
       "state_po              object\n",
       "county_name           object\n",
       "Population           float64\n",
       "Median Age           float64\n",
       "Household Income     float64\n",
       "Per Capita Income    float64\n",
       "Poverty Rate         float64\n",
       "Winner                object\n",
       "dtype: object"
      ]
     },
     "execution_count": 6,
     "metadata": {},
     "output_type": "execute_result"
    }
   ],
   "source": [
    "cleaned_census_data.dtypes"
   ]
  },
  {
   "cell_type": "code",
   "execution_count": 7,
   "id": "203ff35e",
   "metadata": {},
   "outputs": [],
   "source": [
    "# for col in df.columns:\n",
    "#     if df[col].dtype == 'object':\n",
    "#         df[col] = pd.to_numeric(df[col], errors='coerce')"
   ]
  },
  {
   "cell_type": "code",
   "execution_count": 8,
   "id": "bf7d35d4",
   "metadata": {},
   "outputs": [],
   "source": [
    "#drop non feature columns that are objects\n",
    "cleaned_census_data = cleaned_census_data.drop(columns=['state', 'county_name','state_po'])"
   ]
  },
  {
   "cell_type": "code",
   "execution_count": 9,
   "id": "5c562e2a",
   "metadata": {},
   "outputs": [],
   "source": [
    "#pd.get_dummies(X['state_po'])"
   ]
  },
  {
   "cell_type": "code",
   "execution_count": 10,
   "id": "36bd0345",
   "metadata": {},
   "outputs": [
    {
     "data": {
      "text/plain": [
       "year                   int64\n",
       "Population           float64\n",
       "Median Age           float64\n",
       "Household Income     float64\n",
       "Per Capita Income    float64\n",
       "Poverty Rate         float64\n",
       "Winner                object\n",
       "dtype: object"
      ]
     },
     "execution_count": 10,
     "metadata": {},
     "output_type": "execute_result"
    }
   ],
   "source": [
    "cleaned_census_data.dtypes"
   ]
  },
  {
   "cell_type": "code",
   "execution_count": 11,
   "id": "95397c42",
   "metadata": {},
   "outputs": [],
   "source": [
    "#df.dropna(inplace=True)\n",
    "        \n",
    "X = cleaned_census_data.drop('Winner', axis=1)\n",
    "y = cleaned_census_data['Winner']"
   ]
  },
  {
   "cell_type": "code",
   "execution_count": 12,
   "id": "27f1e327",
   "metadata": {},
   "outputs": [],
   "source": [
    "X_train, X_test, y_train, y_test = train_test_split(X, y, test_size=0.1, random_state=1)\n",
    "scaler = StandardScaler().fit(X_train)\n",
    "X_train_scaled = scaler.transform(X_train)\n",
    "X_test_scaled = scaler.transform(X_test)"
   ]
  },
  {
   "cell_type": "code",
   "execution_count": 13,
   "id": "0b398f4b",
   "metadata": {},
   "outputs": [],
   "source": [
    "#np.seterr(divide='ignore', invalid='ignore')"
   ]
  },
  {
   "cell_type": "code",
   "execution_count": 14,
   "id": "f8e388de",
   "metadata": {},
   "outputs": [
    {
     "name": "stdout",
     "output_type": "stream",
     "text": [
      "Training Score: 1.0\n",
      "Testing Score: 0.855715871254162\n"
     ]
    }
   ],
   "source": [
    "clf = RandomForestClassifier(random_state=1, n_estimators=500).fit(X_train_scaled, y_train)\n",
    "print(f'Training Score: {clf.score(X_train_scaled, y_train)}')\n",
    "print(f'Testing Score: {clf.score(X_test_scaled, y_test)}')"
   ]
  },
  {
   "cell_type": "code",
   "execution_count": 15,
   "id": "8e1c0eb8",
   "metadata": {},
   "outputs": [
    {
     "name": "stdout",
     "output_type": "stream",
     "text": [
      "[0.02810507 0.29913808 0.150774   0.15634069 0.18382481 0.18181734]\n"
     ]
    },
    {
     "data": {
      "image/png": "[encoded data removed]",
      "text/plain": [
       "<Figure size 432x288 with 1 Axes>"
      ]
     },
     "metadata": {
      "needs_background": "light"
     },
     "output_type": "display_data"
    }
   ],
   "source": [
    "features = clf.feature_importances_\n",
    "print(features)\n",
    "plt.bar(x = range(len(features)), height=features)\n",
    "plt.show()"
   ]
  },
  {
   "cell_type": "code",
   "execution_count": 16,
   "id": "1c4125b6",
   "metadata": {},
   "outputs": [
    {
     "data": {
      "image/png": "[encoded data removed]",
      "text/plain": [
       "<Figure size 216x360 with 1 Axes>"
      ]
     },
     "metadata": {
      "needs_background": "light"
     },
     "output_type": "display_data"
    }
   ],
   "source": [
    "features = sorted(zip(X.columns, clf.feature_importances_), key = lambda x: x[1])\n",
    "cols = [f[0] for f in features]\n",
    "width = [f[1] for f in features]\n",
    "\n",
    "fig, ax = plt.subplots()\n",
    "\n",
    "fig.set_size_inches(3,5)\n",
    "plt.margins(y=0.001)\n",
    "\n",
    "ax.barh(y=cols, width=width)\n",
    "\n",
    "plt.show()"
   ]
  }
 ],
 "metadata": {
  "kernelspec": {
   "display_name": "Python 3 (ipykernel)",
   "language": "python",
   "name": "python3"
  },
  "language_info": {
   "codemirror_mode": {
    "name": "ipython",
    "version": 3
   },
   "file_extension": ".py",
   "mimetype": "text/x-python",
   "name": "python",
   "nbconvert_exporter": "python",
   "pygments_lexer": "ipython3",
   "version": "3.7.7"
  }
 },
 "nbformat": 4,
 "nbformat_minor": 5
}
