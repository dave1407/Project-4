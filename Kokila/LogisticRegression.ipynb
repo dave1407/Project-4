{
 "cells": [
  {
   "cell_type": "markdown",
   "id": "760496c8",
   "metadata": {},
   "source": [
    "# Logistic Regression Model"
   ]
  },
  {
   "cell_type": "code",
   "execution_count": 1,
   "id": "42c64e06",
   "metadata": {},
   "outputs": [
    {
     "name": "stdout",
     "output_type": "stream",
     "text": [
      "Requirement already satisfied: imblearn in c:\\users\\nmurl\\anaconda3\\lib\\site-packages (0.0)\n",
      "Requirement already satisfied: imbalanced-learn in c:\\users\\nmurl\\anaconda3\\lib\\site-packages (from imblearn) (0.10.1)\n",
      "Requirement already satisfied: threadpoolctl>=2.0.0 in c:\\users\\nmurl\\anaconda3\\lib\\site-packages (from imbalanced-learn->imblearn) (2.2.0)\n",
      "Requirement already satisfied: scikit-learn>=1.0.2 in c:\\users\\nmurl\\anaconda3\\lib\\site-packages (from imbalanced-learn->imblearn) (1.0.2)\n",
      "Requirement already satisfied: numpy>=1.17.3 in c:\\users\\nmurl\\anaconda3\\lib\\site-packages (from imbalanced-learn->imblearn) (1.21.5)\n",
      "Requirement already satisfied: joblib>=1.1.1 in c:\\users\\nmurl\\anaconda3\\lib\\site-packages (from imbalanced-learn->imblearn) (1.2.0)\n",
      "Requirement already satisfied: scipy>=1.3.2 in c:\\users\\nmurl\\anaconda3\\lib\\site-packages (from imbalanced-learn->imblearn) (1.7.3)\n"
     ]
    }
   ],
   "source": [
    "!pip install imblearn"
   ]
  },
  {
   "cell_type": "code",
   "execution_count": 2,
   "id": "19b569ad",
   "metadata": {},
   "outputs": [],
   "source": [
    "# import dependencies\n",
    "import matplotlib.pyplot as plt\n",
    "import numpy as np\n",
    "import pandas as pd\n",
    "import pymongo\n",
    "import os\n",
    "\n",
    "from sklearn.linear_model import LogisticRegression\n",
    "from sklearn.model_selection import train_test_split\n",
    "from sklearn.preprocessing import StandardScaler, MinMaxScaler, LabelEncoder\n",
    "from sklearn.metrics import confusion_matrix, classification_report\n",
    "from sklearn.model_selection import GridSearchCV\n",
    "from sklearn.pipeline import Pipeline\n",
    "from sklearn.metrics import confusion_matrix\n",
    "import seaborn as sns\n",
    "from sklearn.metrics import roc_curve, roc_auc_score\n"
   ]
  },
  {
   "cell_type": "markdown",
   "id": "d365abe6",
   "metadata": {},
   "source": [
    "# Import data from DB for modeling"
   ]
  },
  {
   "cell_type": "code",
   "execution_count": 3,
   "id": "1f5509a7",
   "metadata": {},
   "outputs": [],
   "source": [
    "# Initialize PyMongo to work with MongoDBs\n",
    "conn = 'mongodb://localhost:27017'\n",
    "client = pymongo.MongoClient(conn)"
   ]
  },
  {
   "cell_type": "code",
   "execution_count": 4,
   "id": "5f4c778f",
   "metadata": {},
   "outputs": [],
   "source": [
    "results = client.census_DB.census.find()\n",
    "cluster_data = []\n",
    "for result in results:\n",
    "    del result['_id']\n",
    "    cluster_data.append(result)"
   ]
  },
  {
   "cell_type": "code",
   "execution_count": 5,
   "id": "facabcd2",
   "metadata": {},
   "outputs": [
    {
     "data": {
      "text/html": [
       "<div>\n",
       "<style scoped>\n",
       "    .dataframe tbody tr th:only-of-type {\n",
       "        vertical-align: middle;\n",
       "    }\n",
       "\n",
       "    .dataframe tbody tr th {\n",
       "        vertical-align: top;\n",
       "    }\n",
       "\n",
       "    .dataframe thead th {\n",
       "        text-align: right;\n",
       "    }\n",
       "</style>\n",
       "<table border=\"1\" class=\"dataframe\">\n",
       "  <thead>\n",
       "    <tr style=\"text-align: right;\">\n",
       "      <th></th>\n",
       "      <th>year</th>\n",
       "      <th>state</th>\n",
       "      <th>state_po</th>\n",
       "      <th>county_name</th>\n",
       "      <th>Population</th>\n",
       "      <th>Median Age</th>\n",
       "      <th>Household Income</th>\n",
       "      <th>Per Capita Income</th>\n",
       "      <th>Poverty Rate</th>\n",
       "      <th>Winner</th>\n",
       "    </tr>\n",
       "  </thead>\n",
       "  <tbody>\n",
       "    <tr>\n",
       "      <th>0</th>\n",
       "      <td>2012</td>\n",
       "      <td>MISSOURI</td>\n",
       "      <td>MO</td>\n",
       "      <td>LINN</td>\n",
       "      <td>12668.0</td>\n",
       "      <td>43.0</td>\n",
       "      <td>39028.0</td>\n",
       "      <td>20968.0</td>\n",
       "      <td>13.245974</td>\n",
       "      <td>Republican</td>\n",
       "    </tr>\n",
       "    <tr>\n",
       "      <th>1</th>\n",
       "      <td>2012</td>\n",
       "      <td>MISSOURI</td>\n",
       "      <td>MO</td>\n",
       "      <td>HOWELL</td>\n",
       "      <td>40330.0</td>\n",
       "      <td>39.6</td>\n",
       "      <td>34148.0</td>\n",
       "      <td>17763.0</td>\n",
       "      <td>20.300025</td>\n",
       "      <td>Republican</td>\n",
       "    </tr>\n",
       "    <tr>\n",
       "      <th>2</th>\n",
       "      <td>2012</td>\n",
       "      <td>MISSOURI</td>\n",
       "      <td>MO</td>\n",
       "      <td>JOHNSON</td>\n",
       "      <td>52964.0</td>\n",
       "      <td>29.7</td>\n",
       "      <td>47960.0</td>\n",
       "      <td>21375.0</td>\n",
       "      <td>15.246205</td>\n",
       "      <td>Republican</td>\n",
       "    </tr>\n",
       "    <tr>\n",
       "      <th>3</th>\n",
       "      <td>2012</td>\n",
       "      <td>MISSOURI</td>\n",
       "      <td>MO</td>\n",
       "      <td>LACLEDE</td>\n",
       "      <td>35507.0</td>\n",
       "      <td>39.1</td>\n",
       "      <td>39101.0</td>\n",
       "      <td>19788.0</td>\n",
       "      <td>18.244290</td>\n",
       "      <td>Republican</td>\n",
       "    </tr>\n",
       "    <tr>\n",
       "      <th>4</th>\n",
       "      <td>2012</td>\n",
       "      <td>MISSOURI</td>\n",
       "      <td>MO</td>\n",
       "      <td>MARIES</td>\n",
       "      <td>9140.0</td>\n",
       "      <td>43.1</td>\n",
       "      <td>44885.0</td>\n",
       "      <td>21883.0</td>\n",
       "      <td>14.070022</td>\n",
       "      <td>Republican</td>\n",
       "    </tr>\n",
       "    <tr>\n",
       "      <th>...</th>\n",
       "      <td>...</td>\n",
       "      <td>...</td>\n",
       "      <td>...</td>\n",
       "      <td>...</td>\n",
       "      <td>...</td>\n",
       "      <td>...</td>\n",
       "      <td>...</td>\n",
       "      <td>...</td>\n",
       "      <td>...</td>\n",
       "      <td>...</td>\n",
       "    </tr>\n",
       "    <tr>\n",
       "      <th>9002</th>\n",
       "      <td>2020</td>\n",
       "      <td>MINNESOTA</td>\n",
       "      <td>MN</td>\n",
       "      <td>RENVILLE</td>\n",
       "      <td>14572.0</td>\n",
       "      <td>44.0</td>\n",
       "      <td>58542.0</td>\n",
       "      <td>31243.0</td>\n",
       "      <td>9.422180</td>\n",
       "      <td>Republican</td>\n",
       "    </tr>\n",
       "    <tr>\n",
       "      <th>9003</th>\n",
       "      <td>2020</td>\n",
       "      <td>MINNESOTA</td>\n",
       "      <td>MN</td>\n",
       "      <td>ROSEAU</td>\n",
       "      <td>15259.0</td>\n",
       "      <td>41.6</td>\n",
       "      <td>62304.0</td>\n",
       "      <td>31452.0</td>\n",
       "      <td>7.425126</td>\n",
       "      <td>Republican</td>\n",
       "    </tr>\n",
       "    <tr>\n",
       "      <th>9004</th>\n",
       "      <td>2020</td>\n",
       "      <td>MINNESOTA</td>\n",
       "      <td>MN</td>\n",
       "      <td>SHERBURNE</td>\n",
       "      <td>96015.0</td>\n",
       "      <td>36.1</td>\n",
       "      <td>88671.0</td>\n",
       "      <td>36022.0</td>\n",
       "      <td>5.158569</td>\n",
       "      <td>Republican</td>\n",
       "    </tr>\n",
       "    <tr>\n",
       "      <th>9005</th>\n",
       "      <td>2020</td>\n",
       "      <td>MINNESOTA</td>\n",
       "      <td>MN</td>\n",
       "      <td>STEELE</td>\n",
       "      <td>36710.0</td>\n",
       "      <td>39.2</td>\n",
       "      <td>68172.0</td>\n",
       "      <td>34648.0</td>\n",
       "      <td>7.864342</td>\n",
       "      <td>Republican</td>\n",
       "    </tr>\n",
       "    <tr>\n",
       "      <th>9006</th>\n",
       "      <td>2020</td>\n",
       "      <td>MINNESOTA</td>\n",
       "      <td>MN</td>\n",
       "      <td>TODD</td>\n",
       "      <td>24603.0</td>\n",
       "      <td>43.9</td>\n",
       "      <td>54502.0</td>\n",
       "      <td>26427.0</td>\n",
       "      <td>13.315449</td>\n",
       "      <td>Republican</td>\n",
       "    </tr>\n",
       "  </tbody>\n",
       "</table>\n",
       "<p>9007 rows × 10 columns</p>\n",
       "</div>"
      ],
      "text/plain": [
       "      year      state state_po county_name  Population  Median Age  \\\n",
       "0     2012   MISSOURI       MO        LINN     12668.0        43.0   \n",
       "1     2012   MISSOURI       MO      HOWELL     40330.0        39.6   \n",
       "2     2012   MISSOURI       MO     JOHNSON     52964.0        29.7   \n",
       "3     2012   MISSOURI       MO     LACLEDE     35507.0        39.1   \n",
       "4     2012   MISSOURI       MO      MARIES      9140.0        43.1   \n",
       "...    ...        ...      ...         ...         ...         ...   \n",
       "9002  2020  MINNESOTA       MN    RENVILLE     14572.0        44.0   \n",
       "9003  2020  MINNESOTA       MN      ROSEAU     15259.0        41.6   \n",
       "9004  2020  MINNESOTA       MN   SHERBURNE     96015.0        36.1   \n",
       "9005  2020  MINNESOTA       MN      STEELE     36710.0        39.2   \n",
       "9006  2020  MINNESOTA       MN        TODD     24603.0        43.9   \n",
       "\n",
       "      Household Income  Per Capita Income  Poverty Rate      Winner  \n",
       "0              39028.0            20968.0     13.245974  Republican  \n",
       "1              34148.0            17763.0     20.300025  Republican  \n",
       "2              47960.0            21375.0     15.246205  Republican  \n",
       "3              39101.0            19788.0     18.244290  Republican  \n",
       "4              44885.0            21883.0     14.070022  Republican  \n",
       "...                ...                ...           ...         ...  \n",
       "9002           58542.0            31243.0      9.422180  Republican  \n",
       "9003           62304.0            31452.0      7.425126  Republican  \n",
       "9004           88671.0            36022.0      5.158569  Republican  \n",
       "9005           68172.0            34648.0      7.864342  Republican  \n",
       "9006           54502.0            26427.0     13.315449  Republican  \n",
       "\n",
       "[9007 rows x 10 columns]"
      ]
     },
     "execution_count": 5,
     "metadata": {},
     "output_type": "execute_result"
    }
   ],
   "source": [
    "cleaned_census_data = pd.DataFrame(cluster_data)\n",
    "cleaned_census_data"
   ]
  },
  {
   "cell_type": "markdown",
   "id": "e199fad0",
   "metadata": {},
   "source": [
    "# Data Cleaning"
   ]
  },
  {
   "cell_type": "code",
   "execution_count": 6,
   "id": "b6dfc9f7",
   "metadata": {},
   "outputs": [
    {
     "data": {
      "text/html": [
       "<div>\n",
       "<style scoped>\n",
       "    .dataframe tbody tr th:only-of-type {\n",
       "        vertical-align: middle;\n",
       "    }\n",
       "\n",
       "    .dataframe tbody tr th {\n",
       "        vertical-align: top;\n",
       "    }\n",
       "\n",
       "    .dataframe thead th {\n",
       "        text-align: right;\n",
       "    }\n",
       "</style>\n",
       "<table border=\"1\" class=\"dataframe\">\n",
       "  <thead>\n",
       "    <tr style=\"text-align: right;\">\n",
       "      <th></th>\n",
       "      <th>year</th>\n",
       "      <th>Population</th>\n",
       "      <th>Median Age</th>\n",
       "      <th>Household Income</th>\n",
       "      <th>Per Capita Income</th>\n",
       "      <th>Poverty Rate</th>\n",
       "      <th>Winner</th>\n",
       "    </tr>\n",
       "  </thead>\n",
       "  <tbody>\n",
       "    <tr>\n",
       "      <th>0</th>\n",
       "      <td>2012</td>\n",
       "      <td>12668.0</td>\n",
       "      <td>43.0</td>\n",
       "      <td>39028.0</td>\n",
       "      <td>20968.0</td>\n",
       "      <td>13.245974</td>\n",
       "      <td>Republican</td>\n",
       "    </tr>\n",
       "    <tr>\n",
       "      <th>1</th>\n",
       "      <td>2012</td>\n",
       "      <td>40330.0</td>\n",
       "      <td>39.6</td>\n",
       "      <td>34148.0</td>\n",
       "      <td>17763.0</td>\n",
       "      <td>20.300025</td>\n",
       "      <td>Republican</td>\n",
       "    </tr>\n",
       "    <tr>\n",
       "      <th>2</th>\n",
       "      <td>2012</td>\n",
       "      <td>52964.0</td>\n",
       "      <td>29.7</td>\n",
       "      <td>47960.0</td>\n",
       "      <td>21375.0</td>\n",
       "      <td>15.246205</td>\n",
       "      <td>Republican</td>\n",
       "    </tr>\n",
       "    <tr>\n",
       "      <th>3</th>\n",
       "      <td>2012</td>\n",
       "      <td>35507.0</td>\n",
       "      <td>39.1</td>\n",
       "      <td>39101.0</td>\n",
       "      <td>19788.0</td>\n",
       "      <td>18.244290</td>\n",
       "      <td>Republican</td>\n",
       "    </tr>\n",
       "    <tr>\n",
       "      <th>4</th>\n",
       "      <td>2012</td>\n",
       "      <td>9140.0</td>\n",
       "      <td>43.1</td>\n",
       "      <td>44885.0</td>\n",
       "      <td>21883.0</td>\n",
       "      <td>14.070022</td>\n",
       "      <td>Republican</td>\n",
       "    </tr>\n",
       "  </tbody>\n",
       "</table>\n",
       "</div>"
      ],
      "text/plain": [
       "   year  Population  Median Age  Household Income  Per Capita Income  \\\n",
       "0  2012     12668.0        43.0           39028.0            20968.0   \n",
       "1  2012     40330.0        39.6           34148.0            17763.0   \n",
       "2  2012     52964.0        29.7           47960.0            21375.0   \n",
       "3  2012     35507.0        39.1           39101.0            19788.0   \n",
       "4  2012      9140.0        43.1           44885.0            21883.0   \n",
       "\n",
       "   Poverty Rate      Winner  \n",
       "0     13.245974  Republican  \n",
       "1     20.300025  Republican  \n",
       "2     15.246205  Republican  \n",
       "3     18.244290  Republican  \n",
       "4     14.070022  Republican  "
      ]
     },
     "execution_count": 6,
     "metadata": {},
     "output_type": "execute_result"
    }
   ],
   "source": [
    "# Dropping the unwanted columns before performing the Machine Learning model\n",
    "cleaned_census_data1 = cleaned_census_data.drop(['state','state_po', 'county_name'], axis=1)\n",
    "cleaned_census_data1.head()"
   ]
  },
  {
   "cell_type": "code",
   "execution_count": 7,
   "id": "7768f183",
   "metadata": {},
   "outputs": [
    {
     "data": {
      "text/plain": [
       "Republican    7415\n",
       "Democrat      1592\n",
       "Name: Winner, dtype: int64"
      ]
     },
     "execution_count": 7,
     "metadata": {},
     "output_type": "execute_result"
    }
   ],
   "source": [
    "# reading the winner counts for seeing data balance\n",
    "cleaned_census_data1['Winner'].value_counts()"
   ]
  },
  {
   "cell_type": "code",
   "execution_count": 8,
   "id": "9696f428",
   "metadata": {},
   "outputs": [
    {
     "data": {
      "text/plain": [
       "<AxesSubplot:>"
      ]
     },
     "execution_count": 8,
     "metadata": {},
     "output_type": "execute_result"
    },
    {
     "data": {
      "image/png": "[encoded data removed]",
      "text/plain": [
       "<Figure size 432x288 with 1 Axes>"
      ]
     },
     "metadata": {
      "needs_background": "light"
     },
     "output_type": "display_data"
    }
   ],
   "source": [
    "# visualizing the winner counts for seeing data balance\n",
    "cleaned_census_data1['Winner'].value_counts().plot(kind='bar')"
   ]
  },
  {
   "cell_type": "code",
   "execution_count": 9,
   "id": "163f9061",
   "metadata": {},
   "outputs": [
    {
     "data": {
      "text/html": [
       "<div>\n",
       "<style scoped>\n",
       "    .dataframe tbody tr th:only-of-type {\n",
       "        vertical-align: middle;\n",
       "    }\n",
       "\n",
       "    .dataframe tbody tr th {\n",
       "        vertical-align: top;\n",
       "    }\n",
       "\n",
       "    .dataframe thead th {\n",
       "        text-align: right;\n",
       "    }\n",
       "</style>\n",
       "<table border=\"1\" class=\"dataframe\">\n",
       "  <thead>\n",
       "    <tr style=\"text-align: right;\">\n",
       "      <th></th>\n",
       "      <th>year</th>\n",
       "      <th>Population</th>\n",
       "      <th>Median Age</th>\n",
       "      <th>Household Income</th>\n",
       "      <th>Per Capita Income</th>\n",
       "      <th>Poverty Rate</th>\n",
       "      <th>Winner</th>\n",
       "    </tr>\n",
       "  </thead>\n",
       "  <tbody>\n",
       "    <tr>\n",
       "      <th>0</th>\n",
       "      <td>2012</td>\n",
       "      <td>12668.0</td>\n",
       "      <td>43.0</td>\n",
       "      <td>39028.0</td>\n",
       "      <td>20968.0</td>\n",
       "      <td>13.245974</td>\n",
       "      <td>0</td>\n",
       "    </tr>\n",
       "    <tr>\n",
       "      <th>1</th>\n",
       "      <td>2012</td>\n",
       "      <td>40330.0</td>\n",
       "      <td>39.6</td>\n",
       "      <td>34148.0</td>\n",
       "      <td>17763.0</td>\n",
       "      <td>20.300025</td>\n",
       "      <td>0</td>\n",
       "    </tr>\n",
       "    <tr>\n",
       "      <th>2</th>\n",
       "      <td>2012</td>\n",
       "      <td>52964.0</td>\n",
       "      <td>29.7</td>\n",
       "      <td>47960.0</td>\n",
       "      <td>21375.0</td>\n",
       "      <td>15.246205</td>\n",
       "      <td>0</td>\n",
       "    </tr>\n",
       "    <tr>\n",
       "      <th>3</th>\n",
       "      <td>2012</td>\n",
       "      <td>35507.0</td>\n",
       "      <td>39.1</td>\n",
       "      <td>39101.0</td>\n",
       "      <td>19788.0</td>\n",
       "      <td>18.244290</td>\n",
       "      <td>0</td>\n",
       "    </tr>\n",
       "    <tr>\n",
       "      <th>4</th>\n",
       "      <td>2012</td>\n",
       "      <td>9140.0</td>\n",
       "      <td>43.1</td>\n",
       "      <td>44885.0</td>\n",
       "      <td>21883.0</td>\n",
       "      <td>14.070022</td>\n",
       "      <td>0</td>\n",
       "    </tr>\n",
       "  </tbody>\n",
       "</table>\n",
       "</div>"
      ],
      "text/plain": [
       "   year  Population  Median Age  Household Income  Per Capita Income  \\\n",
       "0  2012     12668.0        43.0           39028.0            20968.0   \n",
       "1  2012     40330.0        39.6           34148.0            17763.0   \n",
       "2  2012     52964.0        29.7           47960.0            21375.0   \n",
       "3  2012     35507.0        39.1           39101.0            19788.0   \n",
       "4  2012      9140.0        43.1           44885.0            21883.0   \n",
       "\n",
       "   Poverty Rate  Winner  \n",
       "0     13.245974       0  \n",
       "1     20.300025       0  \n",
       "2     15.246205       0  \n",
       "3     18.244290       0  \n",
       "4     14.070022       0  "
      ]
     },
     "execution_count": 9,
     "metadata": {},
     "output_type": "execute_result"
    }
   ],
   "source": [
    "# making the target column as a binary indicator , so that I can utilize it in the Logistic Regression ML\n",
    "winner_dict = {'Republican': 0, 'Democrat': 1}\n",
    "cleaned_census_data1 = cleaned_census_data1.replace({'Winner': winner_dict})\n",
    "cleaned_census_data1.head()"
   ]
  },
  {
   "cell_type": "markdown",
   "id": "7fbe303d",
   "metadata": {},
   "source": [
    "# Build Logistic Regression Model"
   ]
  },
  {
   "cell_type": "code",
   "execution_count": 10,
   "id": "b687fcdb",
   "metadata": {},
   "outputs": [
    {
     "name": "stdout",
     "output_type": "stream",
     "text": [
      "      Population  Median Age  Household Income  Per Capita Income  \\\n",
      "0        12668.0        43.0           39028.0            20968.0   \n",
      "1        40330.0        39.6           34148.0            17763.0   \n",
      "2        52964.0        29.7           47960.0            21375.0   \n",
      "3        35507.0        39.1           39101.0            19788.0   \n",
      "4         9140.0        43.1           44885.0            21883.0   \n",
      "...          ...         ...               ...                ...   \n",
      "9002     14572.0        44.0           58542.0            31243.0   \n",
      "9003     15259.0        41.6           62304.0            31452.0   \n",
      "9004     96015.0        36.1           88671.0            36022.0   \n",
      "9005     36710.0        39.2           68172.0            34648.0   \n",
      "9006     24603.0        43.9           54502.0            26427.0   \n",
      "\n",
      "      Poverty Rate  \n",
      "0        13.245974  \n",
      "1        20.300025  \n",
      "2        15.246205  \n",
      "3        18.244290  \n",
      "4        14.070022  \n",
      "...            ...  \n",
      "9002      9.422180  \n",
      "9003      7.425126  \n",
      "9004      5.158569  \n",
      "9005      7.864342  \n",
      "9006     13.315449  \n",
      "\n",
      "[9007 rows x 5 columns]\n",
      "0       0\n",
      "1       0\n",
      "2       0\n",
      "3       0\n",
      "4       0\n",
      "       ..\n",
      "9002    0\n",
      "9003    0\n",
      "9004    0\n",
      "9005    0\n",
      "9006    0\n",
      "Name: Winner, Length: 9007, dtype: int64\n"
     ]
    }
   ],
   "source": [
    "# selecting the Target and features for performing ML\n",
    "# target = 'Winner'\n",
    "# features = ['year','Population','Median Age','Household Income','Per Capita Income','Poverty Rate']\n",
    "# print(features)\n",
    "X = cleaned_census_data1[['Population','Median Age','Household Income','Per Capita Income','Poverty Rate']]\n",
    "y = cleaned_census_data1['Winner']\n",
    "print(X)\n",
    "print(y)"
   ]
  },
  {
   "cell_type": "code",
   "execution_count": 11,
   "id": "2bcbe3d3",
   "metadata": {},
   "outputs": [],
   "source": [
    "# Split our data into training and testing data\n",
    "X_train, X_test, y_train, y_test = train_test_split(X, y,stratify=y, random_state=1)"
   ]
  },
  {
   "cell_type": "code",
   "execution_count": 12,
   "id": "b2ee80b4",
   "metadata": {},
   "outputs": [
    {
     "name": "stdout",
     "output_type": "stream",
     "text": [
      "Number transactions X_train dataset:  (6755, 5)\n",
      "Number transactions y_train dataset:  (6755,)\n",
      "Number transactions X_test dataset:  (2252, 5)\n",
      "Number transactions y_test dataset:  (2252,)\n"
     ]
    }
   ],
   "source": [
    "# describes info about train and test set\n",
    "print(\"Number transactions X_train dataset: \", X_train.shape)\n",
    "print(\"Number transactions y_train dataset: \", y_train.shape)\n",
    "print(\"Number transactions X_test dataset: \", X_test.shape)\n",
    "print(\"Number transactions y_test dataset: \", y_test.shape)"
   ]
  },
  {
   "cell_type": "code",
   "execution_count": 13,
   "id": "e4721d89",
   "metadata": {},
   "outputs": [
    {
     "data": {
      "text/plain": [
       "LogisticRegression()"
      ]
     },
     "execution_count": 13,
     "metadata": {},
     "output_type": "execute_result"
    }
   ],
   "source": [
    "# create a logistic regression model\n",
    "\n",
    "classifier = LogisticRegression()\n",
    "classifier"
   ]
  },
  {
   "cell_type": "code",
   "execution_count": 14,
   "id": "2d38dd06",
   "metadata": {},
   "outputs": [
    {
     "data": {
      "text/plain": [
       "LogisticRegression()"
      ]
     },
     "execution_count": 14,
     "metadata": {},
     "output_type": "execute_result"
    }
   ],
   "source": [
    "# Fit(train) our model by using the training data\n",
    "classifier.fit(X_train, y_train)"
   ]
  },
  {
   "cell_type": "code",
   "execution_count": 15,
   "id": "cfd5e6f7",
   "metadata": {},
   "outputs": [
    {
     "name": "stdout",
     "output_type": "stream",
     "text": [
      "Training Data Score: 0.8540340488527017\n",
      "Testing Data Score: 0.855683836589698\n"
     ]
    }
   ],
   "source": [
    "# Indicating how far my training and test data are accurately performing\n",
    "print(f\"Training Data Score: {classifier.score(X_train, y_train)}\")\n",
    "print(f\"Testing Data Score: {classifier.score(X_test, y_test)}\")"
   ]
  },
  {
   "cell_type": "code",
   "execution_count": 16,
   "id": "2ae21ac6",
   "metadata": {},
   "outputs": [
    {
     "name": "stdout",
     "output_type": "stream",
     "text": [
      "              precision    recall  f1-score   support\n",
      "\n",
      "           0       0.86      0.99      0.92      1854\n",
      "           1       0.81      0.24      0.37       398\n",
      "\n",
      "    accuracy                           0.86      2252\n",
      "   macro avg       0.84      0.61      0.64      2252\n",
      "weighted avg       0.85      0.86      0.82      2252\n",
      "\n"
     ]
    }
   ],
   "source": [
    "# logistic regression object\n",
    "lr = LogisticRegression()\n",
    "  \n",
    "# train the model on train set\n",
    "lr.fit(X_train, y_train.ravel())\n",
    "  \n",
    "predictions = lr.predict(X_test)\n",
    "  \n",
    "# print classification report\n",
    "print(classification_report(y_test, predictions))"
   ]
  },
  {
   "cell_type": "markdown",
   "id": "5933d6db",
   "metadata": {},
   "source": [
    "The accuracy comes out to be 86% but did you notice something strange ?\n",
    "The recall of the minority class('Democrat') in very less. It proves that the model is more biased towards majority class. So, it proves that this is not the best model."
   ]
  },
  {
   "cell_type": "code",
   "execution_count": 17,
   "id": "cb5c1a55",
   "metadata": {},
   "outputs": [
    {
     "data": {
      "text/plain": [
       "array([[1832,   22],\n",
       "       [ 303,   95]], dtype=int64)"
      ]
     },
     "execution_count": 17,
     "metadata": {},
     "output_type": "execute_result"
    }
   ],
   "source": [
    "y_true = y_test\n",
    "y_pred = classifier.predict(X_test)\n",
    "confusion_matrix(y_true, y_pred)"
   ]
  },
  {
   "cell_type": "code",
   "execution_count": 18,
   "id": "a919a791",
   "metadata": {},
   "outputs": [
    {
     "data": {
      "text/plain": [
       "<AxesSubplot:>"
      ]
     },
     "execution_count": 18,
     "metadata": {},
     "output_type": "execute_result"
    },
    {
     "data": {
      "image/png": "[encoded data removed]",
      "text/plain": [
       "<Figure size 432x288 with 1 Axes>"
      ]
     },
     "metadata": {
      "needs_background": "light"
     },
     "output_type": "display_data"
    }
   ],
   "source": [
    "y_true.value_counts().plot(kind='bar')"
   ]
  },
  {
   "cell_type": "code",
   "execution_count": 19,
   "id": "e69722b2",
   "metadata": {},
   "outputs": [
    {
     "name": "stdout",
     "output_type": "stream",
     "text": [
      "Accuracy: 0.855683836589698\n"
     ]
    }
   ],
   "source": [
    "tn, fp, fn, tp = confusion_matrix(y_true, y_pred).ravel()\n",
    "accuracy = (tp + tn) / (tp + fp + tn + fn) # (111 + 128) / (111 + 5 + 128 + 6)\n",
    "print(f\"Accuracy: {accuracy}\")"
   ]
  },
  {
   "cell_type": "markdown",
   "id": "a7d6102a",
   "metadata": {},
   "source": [
    "# create the confusion Matrix"
   ]
  },
  {
   "cell_type": "code",
   "execution_count": 20,
   "id": "73365933",
   "metadata": {},
   "outputs": [
    {
     "name": "stdout",
     "output_type": "stream",
     "text": [
      "Classification report:\n",
      "              precision    recall  f1-score   support\n",
      "\n",
      "           0       0.86      0.99      0.92      1854\n",
      "           1       0.81      0.24      0.37       398\n",
      "\n",
      "    accuracy                           0.86      2252\n",
      "   macro avg       0.84      0.61      0.64      2252\n",
      "weighted avg       0.85      0.86      0.82      2252\n",
      "\n",
      "ROC AUC score: 0.613\n"
     ]
    },
    {
     "data": {
      "image/png": "[encoded data removed]",
      "text/plain": [
       "<Figure size 432x288 with 2 Axes>"
      ]
     },
     "metadata": {
      "needs_background": "light"
     },
     "output_type": "display_data"
    }
   ],
   "source": [
    "# Compute the confusion matrix\n",
    "cm = confusion_matrix(y_true, y_pred)\n",
    "# create a heatmap of the confusion matrix\n",
    "sns.heatmap(cm, annot=True, cmap='Blues', fmt='g')\n",
    "# Compute and print the classification report\n",
    "cr = classification_report(y_true, y_pred)\n",
    "print(\"Classification report:\")\n",
    "print(cr)\n",
    "# Compute the ROC AUC score\n",
    "roc_auc = roc_auc_score(y_true, y_pred)\n",
    "print(f\"ROC AUC score: {roc_auc:.3f}\")"
   ]
  },
  {
   "cell_type": "code",
   "execution_count": 21,
   "id": "f6338c26",
   "metadata": {},
   "outputs": [
    {
     "data": {
      "image/png": "[encoded data removed]",
      "text/plain": [
       "<Figure size 432x288 with 1 Axes>"
      ]
     },
     "metadata": {
      "needs_background": "light"
     },
     "output_type": "display_data"
    }
   ],
   "source": [
    "x = ['tn', 'fp', 'fn', 'tp']\n",
    "y= [tn, fp, fn, tp]\n",
    "plt.bar(x,y)\n",
    "plt.show()\n"
   ]
  },
  {
   "cell_type": "markdown",
   "id": "2d53c119",
   "metadata": {},
   "source": [
    "The accuracy comes out to be 86% but did you notice something strange? \n",
    "The recall of the minority class('Democrat') in very less. It proves that the model is more biased towards majority class('Republican'). So, it proves that this is not the best model.\n",
    "Now, we will apply different imbalanced data handling techniques and see their accuracy and recall results."
   ]
  },
  {
   "cell_type": "markdown",
   "id": "3267d1ab",
   "metadata": {},
   "source": [
    "# Using SMOTE Algorithm"
   ]
  },
  {
   "cell_type": "code",
   "execution_count": 22,
   "id": "f20aaff4",
   "metadata": {},
   "outputs": [
    {
     "name": "stdout",
     "output_type": "stream",
     "text": [
      "Before OverSampling, counts of label '1': 1194\n",
      "Before OverSampling, counts of label '0': 5561 \n",
      "\n",
      "After OverSampling, the shape of train_X: (11122, 5)\n",
      "After OverSampling, the shape of train_y: (11122,) \n",
      "\n",
      "After OverSampling, counts of label '1': 5561\n",
      "After OverSampling, counts of label '0': 5561\n"
     ]
    }
   ],
   "source": [
    "\n",
    "print(\"Before OverSampling, counts of label '1': {}\".format(sum(y_train == 1)))\n",
    "print(\"Before OverSampling, counts of label '0': {} \\n\".format(sum(y_train == 0)))\n",
    "  \n",
    "# import SMOTE module from imblearn library\n",
    "# pip install imblearn (if you don't have imblearn in your system)\n",
    "from imblearn.over_sampling import SMOTE\n",
    "sm = SMOTE(random_state = 2)\n",
    "X_train_res, y_train_res = sm.fit_resample(X_train, y_train.ravel())\n",
    "  \n",
    "print('After OverSampling, the shape of train_X: {}'.format(X_train_res.shape))\n",
    "print('After OverSampling, the shape of train_y: {} \\n'.format(y_train_res.shape))\n",
    "  \n",
    "print(\"After OverSampling, counts of label '1': {}\".format(sum(y_train_res == 1)))\n",
    "print(\"After OverSampling, counts of label '0': {}\".format(sum(y_train_res == 0)))"
   ]
  },
  {
   "cell_type": "markdown",
   "id": "37723e5d",
   "metadata": {},
   "source": [
    "SMOTE Algorithm has oversampled the minority instances and made it equal to majority class('Republican'). Both categories have equal amount of records. More specifically, the minority class('Democrat') has been increased to the total number of majority class.\n",
    "Now see the accuracy and recall results after applying SMOTE algorithm (Oversampling)."
   ]
  },
  {
   "cell_type": "markdown",
   "id": "2910693e",
   "metadata": {},
   "source": [
    "# Prediction and Recall"
   ]
  },
  {
   "cell_type": "code",
   "execution_count": 23,
   "id": "29f4008f",
   "metadata": {},
   "outputs": [
    {
     "name": "stdout",
     "output_type": "stream",
     "text": [
      "              precision    recall  f1-score   support\n",
      "\n",
      "           0       0.91      0.82      0.86      1854\n",
      "           1       0.43      0.64      0.52       398\n",
      "\n",
      "    accuracy                           0.79      2252\n",
      "   macro avg       0.67      0.73      0.69      2252\n",
      "weighted avg       0.83      0.79      0.80      2252\n",
      "\n"
     ]
    },
    {
     "data": {
      "text/plain": [
       "<AxesSubplot:>"
      ]
     },
     "execution_count": 23,
     "metadata": {},
     "output_type": "execute_result"
    },
    {
     "data": {
      "image/png": "[encoded data removed]",
      "text/plain": [
       "<Figure size 432x288 with 2 Axes>"
      ]
     },
     "metadata": {
      "needs_background": "light"
     },
     "output_type": "display_data"
    }
   ],
   "source": [
    "lr1 = LogisticRegression()\n",
    "lr1.fit(X_train_res, y_train_res.ravel())\n",
    "predictions = lr1.predict(X_test)\n",
    "  \n",
    "# print classification report\n",
    "print(classification_report(y_test, predictions))\n",
    "\n",
    "# Compute the confusion matrix\n",
    "cm = confusion_matrix(y_test, predictions)\n",
    "# create a heatmap of the confusion matrix\n",
    "sns.heatmap(cm, annot=True, cmap='YlGnBu', fmt='g')"
   ]
  },
  {
   "cell_type": "markdown",
   "id": "0c5c3570",
   "metadata": {},
   "source": [
    "We have reduced the accuracy to 79% as compared to previous model but the recall value of minority class('Democrat') has also improved to 64 %. This is a good model compared to the previous one. Recall is great.\n",
    "Now, we will apply NearMiss technique to Under-sample the majority class and see its accuracy and recall results."
   ]
  },
  {
   "cell_type": "markdown",
   "id": "17aac1d7",
   "metadata": {},
   "source": [
    "# NearMiss Algorithm:"
   ]
  },
  {
   "cell_type": "code",
   "execution_count": 24,
   "id": "3a36b67f",
   "metadata": {},
   "outputs": [
    {
     "name": "stdout",
     "output_type": "stream",
     "text": [
      "Before Undersampling, counts of label '1': 1194\n",
      "Before Undersampling, counts of label '0': 5561 \n",
      "\n",
      "After Undersampling, the shape of train_X: (2388, 5)\n",
      "After Undersampling, the shape of train_y: (2388,) \n",
      "\n",
      "After Undersampling, counts of label '1': 1194\n",
      "After Undersampling, counts of label '0': 1194\n"
     ]
    }
   ],
   "source": [
    "print(\"Before Undersampling, counts of label '1': {}\".format(sum(y_train == 1)))\n",
    "print(\"Before Undersampling, counts of label '0': {} \\n\".format(sum(y_train == 0)))\n",
    "  \n",
    "# apply near miss\n",
    "from imblearn.under_sampling import NearMiss\n",
    "nr = NearMiss()\n",
    "  \n",
    "X_train_miss, y_train_miss = nr.fit_resample(X_train, y_train.ravel())\n",
    "  \n",
    "print('After Undersampling, the shape of train_X: {}'.format(X_train_miss.shape))\n",
    "print('After Undersampling, the shape of train_y: {} \\n'.format(y_train_miss.shape))\n",
    "  \n",
    "print(\"After Undersampling, counts of label '1': {}\".format(sum(y_train_miss == 1)))\n",
    "print(\"After Undersampling, counts of label '0': {}\".format(sum(y_train_miss == 0)))"
   ]
  },
  {
   "cell_type": "markdown",
   "id": "74c82ed9",
   "metadata": {},
   "source": [
    "The NearMiss Algorithm has undersampled the majority instances and made it equal to majority class('Republican'). Here, the majority class('Republican') has been reduced to the total number of minority class('Democrat'), so that both classes will have equal number of records."
   ]
  },
  {
   "cell_type": "markdown",
   "id": "49eff68b",
   "metadata": {},
   "source": [
    "# Prediction and Recall"
   ]
  },
  {
   "cell_type": "code",
   "execution_count": 25,
   "id": "3afcf9ba",
   "metadata": {},
   "outputs": [
    {
     "name": "stdout",
     "output_type": "stream",
     "text": [
      "              precision    recall  f1-score   support\n",
      "\n",
      "           0       0.92      0.67      0.77      1854\n",
      "           1       0.32      0.73      0.44       398\n",
      "\n",
      "    accuracy                           0.68      2252\n",
      "   macro avg       0.62      0.70      0.61      2252\n",
      "weighted avg       0.81      0.68      0.71      2252\n",
      "\n"
     ]
    },
    {
     "data": {
      "text/plain": [
       "<AxesSubplot:>"
      ]
     },
     "execution_count": 25,
     "metadata": {},
     "output_type": "execute_result"
    },
    {
     "data": {
      "image/png": "[encoded data removed]",
      "text/plain": [
       "<Figure size 432x288 with 2 Axes>"
      ]
     },
     "metadata": {
      "needs_background": "light"
     },
     "output_type": "display_data"
    }
   ],
   "source": [
    "# train the model on train set\n",
    "lr2 = LogisticRegression()\n",
    "lr2.fit(X_train_miss, y_train_miss.ravel())\n",
    "predictions = lr2.predict(X_test)\n",
    "  \n",
    "# print classification report\n",
    "print(classification_report(y_test, predictions))\n",
    "\n",
    "# Compute the confusion matrix\n",
    "cm = confusion_matrix(y_test, predictions)\n",
    "# create a heatmap of the confusion matrix\n",
    "sns.heatmap(cm, annot=True, cmap='YlGnBu', fmt='g')"
   ]
  },
  {
   "cell_type": "markdown",
   "id": "4553f02e",
   "metadata": {},
   "source": [
    "This model is not better than the SMOTE model because it classifies worse and though the recall value of minority class('Democrat') is 73 %. But due to undersampling of majority class('Republican'), its recall has decreased to 67 %. So in this case, SMOTE is giving a great accuracy and recall. \n",
    "\n",
    "### SMOTE model will be a preferred model for this situation."
   ]
  },
  {
   "cell_type": "markdown",
   "id": "3d814ac1",
   "metadata": {},
   "source": [
    "# Logistic Regression End"
   ]
  }
 ],
 "metadata": {
  "kernelspec": {
   "display_name": "Python 3 (ipykernel)",
   "language": "python",
   "name": "python3"
  },
  "language_info": {
   "codemirror_mode": {
    "name": "ipython",
    "version": 3
   },
   "file_extension": ".py",
   "mimetype": "text/x-python",
   "name": "python",
   "nbconvert_exporter": "python",
   "pygments_lexer": "ipython3",
   "version": "3.9.12"
  }
 },
 "nbformat": 4,
 "nbformat_minor": 5
}
