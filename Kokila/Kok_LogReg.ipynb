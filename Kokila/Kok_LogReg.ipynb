{
 "cells": [
  {
   "cell_type": "code",
   "execution_count": 1,
   "id": "d78b3419",
   "metadata": {},
   "outputs": [],
   "source": [
    "# import dependencies\n",
    "import matplotlib.pyplot as plt\n",
    "import numpy as np\n",
    "import pandas as pd\n",
    "import pymongo\n",
    "import os\n",
    "\n",
    "from sklearn.linear_model import LogisticRegression\n",
    "from sklearn.model_selection import train_test_split\n",
    "from sklearn.preprocessing import StandardScaler, MinMaxScaler, LabelEncoder\n",
    "from sklearn.metrics import confusion_matrix, classification_report\n",
    "from sklearn.model_selection import GridSearchCV\n",
    "from sklearn.pipeline import Pipeline"
   ]
  },
  {
   "cell_type": "markdown",
   "id": "cca80417",
   "metadata": {},
   "source": [
    "# Import data from DB for modeling"
   ]
  },
  {
   "cell_type": "code",
   "execution_count": 2,
   "id": "aca466ef",
   "metadata": {},
   "outputs": [],
   "source": [
    "# Initialize PyMongo to work with MongoDBs\n",
    "conn = 'mongodb://localhost:27017'\n",
    "client = pymongo.MongoClient(conn)"
   ]
  },
  {
   "cell_type": "code",
   "execution_count": 3,
   "id": "8e7dfa64",
   "metadata": {},
   "outputs": [],
   "source": [
    "results = client.census_DB.census.find()\n",
    "cluster_data = []\n",
    "for result in results:\n",
    "    del result['_id']\n",
    "    cluster_data.append(result)"
   ]
  },
  {
   "cell_type": "code",
   "execution_count": 4,
   "id": "e799eb9d",
   "metadata": {},
   "outputs": [
    {
     "data": {
      "text/html": [
       "<div>\n",
       "<style scoped>\n",
       "    .dataframe tbody tr th:only-of-type {\n",
       "        vertical-align: middle;\n",
       "    }\n",
       "\n",
       "    .dataframe tbody tr th {\n",
       "        vertical-align: top;\n",
       "    }\n",
       "\n",
       "    .dataframe thead th {\n",
       "        text-align: right;\n",
       "    }\n",
       "</style>\n",
       "<table border=\"1\" class=\"dataframe\">\n",
       "  <thead>\n",
       "    <tr style=\"text-align: right;\">\n",
       "      <th></th>\n",
       "      <th>year</th>\n",
       "      <th>state</th>\n",
       "      <th>state_po</th>\n",
       "      <th>county_name</th>\n",
       "      <th>Population</th>\n",
       "      <th>Median Age</th>\n",
       "      <th>Household Income</th>\n",
       "      <th>Per Capita Income</th>\n",
       "      <th>Poverty Rate</th>\n",
       "      <th>Winner</th>\n",
       "    </tr>\n",
       "  </thead>\n",
       "  <tbody>\n",
       "    <tr>\n",
       "      <th>0</th>\n",
       "      <td>2012</td>\n",
       "      <td>MISSOURI</td>\n",
       "      <td>MO</td>\n",
       "      <td>LINN</td>\n",
       "      <td>12668.0</td>\n",
       "      <td>43.0</td>\n",
       "      <td>39028.0</td>\n",
       "      <td>20968.0</td>\n",
       "      <td>13.245974</td>\n",
       "      <td>Republican</td>\n",
       "    </tr>\n",
       "    <tr>\n",
       "      <th>1</th>\n",
       "      <td>2012</td>\n",
       "      <td>MISSOURI</td>\n",
       "      <td>MO</td>\n",
       "      <td>HOWELL</td>\n",
       "      <td>40330.0</td>\n",
       "      <td>39.6</td>\n",
       "      <td>34148.0</td>\n",
       "      <td>17763.0</td>\n",
       "      <td>20.300025</td>\n",
       "      <td>Republican</td>\n",
       "    </tr>\n",
       "    <tr>\n",
       "      <th>2</th>\n",
       "      <td>2012</td>\n",
       "      <td>MISSOURI</td>\n",
       "      <td>MO</td>\n",
       "      <td>JOHNSON</td>\n",
       "      <td>52964.0</td>\n",
       "      <td>29.7</td>\n",
       "      <td>47960.0</td>\n",
       "      <td>21375.0</td>\n",
       "      <td>15.246205</td>\n",
       "      <td>Republican</td>\n",
       "    </tr>\n",
       "    <tr>\n",
       "      <th>3</th>\n",
       "      <td>2012</td>\n",
       "      <td>MISSOURI</td>\n",
       "      <td>MO</td>\n",
       "      <td>LACLEDE</td>\n",
       "      <td>35507.0</td>\n",
       "      <td>39.1</td>\n",
       "      <td>39101.0</td>\n",
       "      <td>19788.0</td>\n",
       "      <td>18.244290</td>\n",
       "      <td>Republican</td>\n",
       "    </tr>\n",
       "    <tr>\n",
       "      <th>4</th>\n",
       "      <td>2012</td>\n",
       "      <td>MISSOURI</td>\n",
       "      <td>MO</td>\n",
       "      <td>MARIES</td>\n",
       "      <td>9140.0</td>\n",
       "      <td>43.1</td>\n",
       "      <td>44885.0</td>\n",
       "      <td>21883.0</td>\n",
       "      <td>14.070022</td>\n",
       "      <td>Republican</td>\n",
       "    </tr>\n",
       "    <tr>\n",
       "      <th>...</th>\n",
       "      <td>...</td>\n",
       "      <td>...</td>\n",
       "      <td>...</td>\n",
       "      <td>...</td>\n",
       "      <td>...</td>\n",
       "      <td>...</td>\n",
       "      <td>...</td>\n",
       "      <td>...</td>\n",
       "      <td>...</td>\n",
       "      <td>...</td>\n",
       "    </tr>\n",
       "    <tr>\n",
       "      <th>9002</th>\n",
       "      <td>2020</td>\n",
       "      <td>MINNESOTA</td>\n",
       "      <td>MN</td>\n",
       "      <td>RENVILLE</td>\n",
       "      <td>14572.0</td>\n",
       "      <td>44.0</td>\n",
       "      <td>58542.0</td>\n",
       "      <td>31243.0</td>\n",
       "      <td>9.422180</td>\n",
       "      <td>Republican</td>\n",
       "    </tr>\n",
       "    <tr>\n",
       "      <th>9003</th>\n",
       "      <td>2020</td>\n",
       "      <td>MINNESOTA</td>\n",
       "      <td>MN</td>\n",
       "      <td>ROSEAU</td>\n",
       "      <td>15259.0</td>\n",
       "      <td>41.6</td>\n",
       "      <td>62304.0</td>\n",
       "      <td>31452.0</td>\n",
       "      <td>7.425126</td>\n",
       "      <td>Republican</td>\n",
       "    </tr>\n",
       "    <tr>\n",
       "      <th>9004</th>\n",
       "      <td>2020</td>\n",
       "      <td>MINNESOTA</td>\n",
       "      <td>MN</td>\n",
       "      <td>SHERBURNE</td>\n",
       "      <td>96015.0</td>\n",
       "      <td>36.1</td>\n",
       "      <td>88671.0</td>\n",
       "      <td>36022.0</td>\n",
       "      <td>5.158569</td>\n",
       "      <td>Republican</td>\n",
       "    </tr>\n",
       "    <tr>\n",
       "      <th>9005</th>\n",
       "      <td>2020</td>\n",
       "      <td>MINNESOTA</td>\n",
       "      <td>MN</td>\n",
       "      <td>STEELE</td>\n",
       "      <td>36710.0</td>\n",
       "      <td>39.2</td>\n",
       "      <td>68172.0</td>\n",
       "      <td>34648.0</td>\n",
       "      <td>7.864342</td>\n",
       "      <td>Republican</td>\n",
       "    </tr>\n",
       "    <tr>\n",
       "      <th>9006</th>\n",
       "      <td>2020</td>\n",
       "      <td>MINNESOTA</td>\n",
       "      <td>MN</td>\n",
       "      <td>TODD</td>\n",
       "      <td>24603.0</td>\n",
       "      <td>43.9</td>\n",
       "      <td>54502.0</td>\n",
       "      <td>26427.0</td>\n",
       "      <td>13.315449</td>\n",
       "      <td>Republican</td>\n",
       "    </tr>\n",
       "  </tbody>\n",
       "</table>\n",
       "<p>9007 rows × 10 columns</p>\n",
       "</div>"
      ],
      "text/plain": [
       "      year      state state_po county_name  Population  Median Age  \\\n",
       "0     2012   MISSOURI       MO        LINN     12668.0        43.0   \n",
       "1     2012   MISSOURI       MO      HOWELL     40330.0        39.6   \n",
       "2     2012   MISSOURI       MO     JOHNSON     52964.0        29.7   \n",
       "3     2012   MISSOURI       MO     LACLEDE     35507.0        39.1   \n",
       "4     2012   MISSOURI       MO      MARIES      9140.0        43.1   \n",
       "...    ...        ...      ...         ...         ...         ...   \n",
       "9002  2020  MINNESOTA       MN    RENVILLE     14572.0        44.0   \n",
       "9003  2020  MINNESOTA       MN      ROSEAU     15259.0        41.6   \n",
       "9004  2020  MINNESOTA       MN   SHERBURNE     96015.0        36.1   \n",
       "9005  2020  MINNESOTA       MN      STEELE     36710.0        39.2   \n",
       "9006  2020  MINNESOTA       MN        TODD     24603.0        43.9   \n",
       "\n",
       "      Household Income  Per Capita Income  Poverty Rate      Winner  \n",
       "0              39028.0            20968.0     13.245974  Republican  \n",
       "1              34148.0            17763.0     20.300025  Republican  \n",
       "2              47960.0            21375.0     15.246205  Republican  \n",
       "3              39101.0            19788.0     18.244290  Republican  \n",
       "4              44885.0            21883.0     14.070022  Republican  \n",
       "...                ...                ...           ...         ...  \n",
       "9002           58542.0            31243.0      9.422180  Republican  \n",
       "9003           62304.0            31452.0      7.425126  Republican  \n",
       "9004           88671.0            36022.0      5.158569  Republican  \n",
       "9005           68172.0            34648.0      7.864342  Republican  \n",
       "9006           54502.0            26427.0     13.315449  Republican  \n",
       "\n",
       "[9007 rows x 10 columns]"
      ]
     },
     "execution_count": 4,
     "metadata": {},
     "output_type": "execute_result"
    }
   ],
   "source": [
    "cleaned_census_data = pd.DataFrame(cluster_data)\n",
    "cleaned_census_data"
   ]
  },
  {
   "cell_type": "code",
   "execution_count": 5,
   "id": "c1058068",
   "metadata": {},
   "outputs": [
    {
     "data": {
      "text/html": [
       "<div>\n",
       "<style scoped>\n",
       "    .dataframe tbody tr th:only-of-type {\n",
       "        vertical-align: middle;\n",
       "    }\n",
       "\n",
       "    .dataframe tbody tr th {\n",
       "        vertical-align: top;\n",
       "    }\n",
       "\n",
       "    .dataframe thead th {\n",
       "        text-align: right;\n",
       "    }\n",
       "</style>\n",
       "<table border=\"1\" class=\"dataframe\">\n",
       "  <thead>\n",
       "    <tr style=\"text-align: right;\">\n",
       "      <th></th>\n",
       "      <th>year</th>\n",
       "      <th>Population</th>\n",
       "      <th>Median Age</th>\n",
       "      <th>Household Income</th>\n",
       "      <th>Per Capita Income</th>\n",
       "      <th>Poverty Rate</th>\n",
       "      <th>Winner</th>\n",
       "    </tr>\n",
       "  </thead>\n",
       "  <tbody>\n",
       "    <tr>\n",
       "      <th>0</th>\n",
       "      <td>2012</td>\n",
       "      <td>12668.0</td>\n",
       "      <td>43.0</td>\n",
       "      <td>39028.0</td>\n",
       "      <td>20968.0</td>\n",
       "      <td>13.245974</td>\n",
       "      <td>Republican</td>\n",
       "    </tr>\n",
       "    <tr>\n",
       "      <th>1</th>\n",
       "      <td>2012</td>\n",
       "      <td>40330.0</td>\n",
       "      <td>39.6</td>\n",
       "      <td>34148.0</td>\n",
       "      <td>17763.0</td>\n",
       "      <td>20.300025</td>\n",
       "      <td>Republican</td>\n",
       "    </tr>\n",
       "    <tr>\n",
       "      <th>2</th>\n",
       "      <td>2012</td>\n",
       "      <td>52964.0</td>\n",
       "      <td>29.7</td>\n",
       "      <td>47960.0</td>\n",
       "      <td>21375.0</td>\n",
       "      <td>15.246205</td>\n",
       "      <td>Republican</td>\n",
       "    </tr>\n",
       "    <tr>\n",
       "      <th>3</th>\n",
       "      <td>2012</td>\n",
       "      <td>35507.0</td>\n",
       "      <td>39.1</td>\n",
       "      <td>39101.0</td>\n",
       "      <td>19788.0</td>\n",
       "      <td>18.244290</td>\n",
       "      <td>Republican</td>\n",
       "    </tr>\n",
       "    <tr>\n",
       "      <th>4</th>\n",
       "      <td>2012</td>\n",
       "      <td>9140.0</td>\n",
       "      <td>43.1</td>\n",
       "      <td>44885.0</td>\n",
       "      <td>21883.0</td>\n",
       "      <td>14.070022</td>\n",
       "      <td>Republican</td>\n",
       "    </tr>\n",
       "  </tbody>\n",
       "</table>\n",
       "</div>"
      ],
      "text/plain": [
       "   year  Population  Median Age  Household Income  Per Capita Income  \\\n",
       "0  2012     12668.0        43.0           39028.0            20968.0   \n",
       "1  2012     40330.0        39.6           34148.0            17763.0   \n",
       "2  2012     52964.0        29.7           47960.0            21375.0   \n",
       "3  2012     35507.0        39.1           39101.0            19788.0   \n",
       "4  2012      9140.0        43.1           44885.0            21883.0   \n",
       "\n",
       "   Poverty Rate      Winner  \n",
       "0     13.245974  Republican  \n",
       "1     20.300025  Republican  \n",
       "2     15.246205  Republican  \n",
       "3     18.244290  Republican  \n",
       "4     14.070022  Republican  "
      ]
     },
     "execution_count": 5,
     "metadata": {},
     "output_type": "execute_result"
    }
   ],
   "source": [
    "# Dropping the unwanted columns before performing the Machine Learning model\n",
    "cleaned_census_data1 = cleaned_census_data.drop(['state','state_po', 'county_name'], axis=1)\n",
    "cleaned_census_data1.head()"
   ]
  },
  {
   "cell_type": "code",
   "execution_count": 6,
   "id": "de97928f",
   "metadata": {},
   "outputs": [
    {
     "data": {
      "text/html": [
       "<div>\n",
       "<style scoped>\n",
       "    .dataframe tbody tr th:only-of-type {\n",
       "        vertical-align: middle;\n",
       "    }\n",
       "\n",
       "    .dataframe tbody tr th {\n",
       "        vertical-align: top;\n",
       "    }\n",
       "\n",
       "    .dataframe thead th {\n",
       "        text-align: right;\n",
       "    }\n",
       "</style>\n",
       "<table border=\"1\" class=\"dataframe\">\n",
       "  <thead>\n",
       "    <tr style=\"text-align: right;\">\n",
       "      <th></th>\n",
       "      <th>year</th>\n",
       "      <th>Population</th>\n",
       "      <th>Median Age</th>\n",
       "      <th>Household Income</th>\n",
       "      <th>Per Capita Income</th>\n",
       "      <th>Poverty Rate</th>\n",
       "      <th>Winner</th>\n",
       "    </tr>\n",
       "  </thead>\n",
       "  <tbody>\n",
       "    <tr>\n",
       "      <th>0</th>\n",
       "      <td>2012</td>\n",
       "      <td>12668.0</td>\n",
       "      <td>43.0</td>\n",
       "      <td>39028.0</td>\n",
       "      <td>20968.0</td>\n",
       "      <td>13.245974</td>\n",
       "      <td>0</td>\n",
       "    </tr>\n",
       "    <tr>\n",
       "      <th>1</th>\n",
       "      <td>2012</td>\n",
       "      <td>40330.0</td>\n",
       "      <td>39.6</td>\n",
       "      <td>34148.0</td>\n",
       "      <td>17763.0</td>\n",
       "      <td>20.300025</td>\n",
       "      <td>0</td>\n",
       "    </tr>\n",
       "    <tr>\n",
       "      <th>2</th>\n",
       "      <td>2012</td>\n",
       "      <td>52964.0</td>\n",
       "      <td>29.7</td>\n",
       "      <td>47960.0</td>\n",
       "      <td>21375.0</td>\n",
       "      <td>15.246205</td>\n",
       "      <td>0</td>\n",
       "    </tr>\n",
       "    <tr>\n",
       "      <th>3</th>\n",
       "      <td>2012</td>\n",
       "      <td>35507.0</td>\n",
       "      <td>39.1</td>\n",
       "      <td>39101.0</td>\n",
       "      <td>19788.0</td>\n",
       "      <td>18.244290</td>\n",
       "      <td>0</td>\n",
       "    </tr>\n",
       "    <tr>\n",
       "      <th>4</th>\n",
       "      <td>2012</td>\n",
       "      <td>9140.0</td>\n",
       "      <td>43.1</td>\n",
       "      <td>44885.0</td>\n",
       "      <td>21883.0</td>\n",
       "      <td>14.070022</td>\n",
       "      <td>0</td>\n",
       "    </tr>\n",
       "  </tbody>\n",
       "</table>\n",
       "</div>"
      ],
      "text/plain": [
       "   year  Population  Median Age  Household Income  Per Capita Income  \\\n",
       "0  2012     12668.0        43.0           39028.0            20968.0   \n",
       "1  2012     40330.0        39.6           34148.0            17763.0   \n",
       "2  2012     52964.0        29.7           47960.0            21375.0   \n",
       "3  2012     35507.0        39.1           39101.0            19788.0   \n",
       "4  2012      9140.0        43.1           44885.0            21883.0   \n",
       "\n",
       "   Poverty Rate  Winner  \n",
       "0     13.245974       0  \n",
       "1     20.300025       0  \n",
       "2     15.246205       0  \n",
       "3     18.244290       0  \n",
       "4     14.070022       0  "
      ]
     },
     "execution_count": 6,
     "metadata": {},
     "output_type": "execute_result"
    }
   ],
   "source": [
    "# making the target column as a binary indicator , so that I can utilize it in the Logistic Regression ML\n",
    "winner_dict = {'Republican': 0, 'Democrat': 1}\n",
    "cleaned_census_data1 = cleaned_census_data1.replace({'Winner': winner_dict})\n",
    "cleaned_census_data1.head()"
   ]
  },
  {
   "cell_type": "markdown",
   "id": "e32c3de1",
   "metadata": {},
   "source": [
    "# Build Logistic Regression Model"
   ]
  },
  {
   "cell_type": "code",
   "execution_count": 7,
   "id": "5106d6c1",
   "metadata": {},
   "outputs": [
    {
     "name": "stdout",
     "output_type": "stream",
     "text": [
      "['year', 'Population', 'Median Age', 'Household Income', 'Per Capita Income', 'Poverty Rate']\n"
     ]
    }
   ],
   "source": [
    "# selecting the Target and features for performing ML\n",
    "target = 'Winner'\n",
    "features = ['year','Population','Median Age','Household Income','Per Capita Income','Poverty Rate']\n",
    "print(features)"
   ]
  },
  {
   "cell_type": "code",
   "execution_count": 8,
   "id": "bf53b336",
   "metadata": {},
   "outputs": [
    {
     "data": {
      "text/plain": [
       "array([[2.01200000e+03, 1.26680000e+04, 4.30000000e+01, 3.90280000e+04,\n",
       "        2.09680000e+04, 1.32459741e+01],\n",
       "       [2.01200000e+03, 4.03300000e+04, 3.96000000e+01, 3.41480000e+04,\n",
       "        1.77630000e+04, 2.03000248e+01],\n",
       "       [2.01200000e+03, 5.29640000e+04, 2.97000000e+01, 4.79600000e+04,\n",
       "        2.13750000e+04, 1.52462050e+01],\n",
       "       ...,\n",
       "       [2.01600000e+03, 2.58890000e+04, 4.65000000e+01, 4.33730000e+04,\n",
       "        2.51360000e+04, 1.43690370e+01],\n",
       "       [2.01600000e+03, 3.20210000e+04, 4.83000000e+01, 4.30820000e+04,\n",
       "        2.44550000e+04, 1.37378595e+01],\n",
       "       [2.01600000e+03, 2.84559000e+05, 3.16000000e+01, 4.68420000e+04,\n",
       "        2.60830000e+04, 2.07847933e+01]])"
      ]
     },
     "execution_count": 8,
     "metadata": {},
     "output_type": "execute_result"
    }
   ],
   "source": [
    "# Dropping the rows of 2020 so that I can make a model with rest of the data\n",
    "X = cleaned_census_data1.loc[cleaned_census_data1['year'] != 2020, features].values\n",
    "X"
   ]
  },
  {
   "cell_type": "code",
   "execution_count": 9,
   "id": "86ba4bef",
   "metadata": {},
   "outputs": [
    {
     "data": {
      "text/plain": [
       "array([0, 0, 0, ..., 0, 0, 1], dtype=int64)"
      ]
     },
     "execution_count": 9,
     "metadata": {},
     "output_type": "execute_result"
    }
   ],
   "source": [
    "# Dropping the rows of 2020 so that I can make a model with rest of the data\n",
    "y = cleaned_census_data1.loc[cleaned_census_data1['year'] != 2020, target].values\n",
    "y"
   ]
  },
  {
   "cell_type": "code",
   "execution_count": 10,
   "id": "a6460f8a",
   "metadata": {},
   "outputs": [],
   "source": [
    "# Split our data into training and testing data\n",
    "X_train, X_test, y_train, y_test = train_test_split(X, y, random_state=1)"
   ]
  },
  {
   "cell_type": "code",
   "execution_count": 11,
   "id": "3da97486",
   "metadata": {},
   "outputs": [
    {
     "data": {
      "text/plain": [
       "LogisticRegression()"
      ]
     },
     "execution_count": 11,
     "metadata": {},
     "output_type": "execute_result"
    }
   ],
   "source": [
    "# create a logistic regression model\n",
    "\n",
    "classifier = LogisticRegression()\n",
    "classifier"
   ]
  },
  {
   "cell_type": "code",
   "execution_count": 12,
   "id": "a929140f",
   "metadata": {},
   "outputs": [
    {
     "data": {
      "text/plain": [
       "LogisticRegression()"
      ]
     },
     "execution_count": 12,
     "metadata": {},
     "output_type": "execute_result"
    }
   ],
   "source": [
    "# Fit(train) our model by using the training data\n",
    "classifier.fit(X_train, y_train)"
   ]
  },
  {
   "cell_type": "code",
   "execution_count": 13,
   "id": "9b8fcbaf",
   "metadata": {},
   "outputs": [
    {
     "name": "stdout",
     "output_type": "stream",
     "text": [
      "Training Data Score: 0.855683836589698\n",
      "Testing Data Score: 0.8608521970705726\n"
     ]
    }
   ],
   "source": [
    "# Indicating how far my training and test data are accurately performing\n",
    "print(f\"Training Data Score: {classifier.score(X_train, y_train)}\")\n",
    "print(f\"Testing Data Score: {classifier.score(X_test, y_test)}\")"
   ]
  },
  {
   "cell_type": "code",
   "execution_count": 14,
   "id": "c083e054",
   "metadata": {},
   "outputs": [
    {
     "data": {
      "text/plain": [
       "array([[2.02000000e+03, 5.56390000e+04, 3.86000000e+01, 5.79820000e+04,\n",
       "        2.98040000e+04, 1.50865400e+01],\n",
       "       [2.02000000e+03, 2.18289000e+05, 4.32000000e+01, 6.17560000e+04,\n",
       "        3.37510000e+04, 9.04259949e+00],\n",
       "       [2.02000000e+03, 2.50260000e+04, 4.01000000e+01, 3.49900000e+04,\n",
       "        2.00740000e+04, 2.52217694e+01],\n",
       "       ...,\n",
       "       [2.02000000e+03, 9.60150000e+04, 3.61000000e+01, 8.86710000e+04,\n",
       "        3.60220000e+04, 5.15856897e+00],\n",
       "       [2.02000000e+03, 3.67100000e+04, 3.92000000e+01, 6.81720000e+04,\n",
       "        3.46480000e+04, 7.86434214e+00],\n",
       "       [2.02000000e+03, 2.46030000e+04, 4.39000000e+01, 5.45020000e+04,\n",
       "        2.64270000e+04, 1.33154493e+01]])"
      ]
     },
     "execution_count": 14,
     "metadata": {},
     "output_type": "execute_result"
    }
   ],
   "source": [
    "# To predict the winner of the county elections of the year 2020 with the model that I created above by feeding in 2020 data as test data\n",
    "X_actual = cleaned_census_data1.loc[cleaned_census_data1['year'] == 2020, features].values\n",
    "X_actual"
   ]
  },
  {
   "cell_type": "code",
   "execution_count": 15,
   "id": "cae9d782",
   "metadata": {},
   "outputs": [
    {
     "data": {
      "text/plain": [
       "array([0, 0, 0, ..., 0, 0, 0], dtype=int64)"
      ]
     },
     "execution_count": 15,
     "metadata": {},
     "output_type": "execute_result"
    }
   ],
   "source": [
    "# To predict the winner of the county elections of the year 2020 with the model that I created above by feeding in 2020 data as test data\n",
    "y_actual = cleaned_census_data1.loc[cleaned_census_data1['year'] == 2020, target].values\n",
    "y_actual"
   ]
  },
  {
   "cell_type": "code",
   "execution_count": 16,
   "id": "8141f008",
   "metadata": {},
   "outputs": [
    {
     "data": {
      "text/plain": [
       "array([0, 0, 0, ..., 0, 0, 0], dtype=int64)"
      ]
     },
     "execution_count": 16,
     "metadata": {},
     "output_type": "execute_result"
    }
   ],
   "source": [
    "# Predicting the test data of 2020\n",
    "y_pred = classifier.predict(X_actual)\n",
    "diff = y_pred-y_actual \n",
    "diff"
   ]
  },
  {
   "cell_type": "code",
   "execution_count": 17,
   "id": "15dd1575",
   "metadata": {},
   "outputs": [
    {
     "data": {
      "text/html": [
       "<div>\n",
       "<style scoped>\n",
       "    .dataframe tbody tr th:only-of-type {\n",
       "        vertical-align: middle;\n",
       "    }\n",
       "\n",
       "    .dataframe tbody tr th {\n",
       "        vertical-align: top;\n",
       "    }\n",
       "\n",
       "    .dataframe thead th {\n",
       "        text-align: right;\n",
       "    }\n",
       "</style>\n",
       "<table border=\"1\" class=\"dataframe\">\n",
       "  <thead>\n",
       "    <tr style=\"text-align: right;\">\n",
       "      <th></th>\n",
       "      <th>Prediction</th>\n",
       "      <th>Actual</th>\n",
       "      <th>Difference</th>\n",
       "    </tr>\n",
       "  </thead>\n",
       "  <tbody>\n",
       "    <tr>\n",
       "      <th>0</th>\n",
       "      <td>0</td>\n",
       "      <td>0</td>\n",
       "      <td>0</td>\n",
       "    </tr>\n",
       "    <tr>\n",
       "      <th>1</th>\n",
       "      <td>0</td>\n",
       "      <td>0</td>\n",
       "      <td>0</td>\n",
       "    </tr>\n",
       "    <tr>\n",
       "      <th>2</th>\n",
       "      <td>0</td>\n",
       "      <td>0</td>\n",
       "      <td>0</td>\n",
       "    </tr>\n",
       "    <tr>\n",
       "      <th>3</th>\n",
       "      <td>0</td>\n",
       "      <td>0</td>\n",
       "      <td>0</td>\n",
       "    </tr>\n",
       "    <tr>\n",
       "      <th>4</th>\n",
       "      <td>0</td>\n",
       "      <td>0</td>\n",
       "      <td>0</td>\n",
       "    </tr>\n",
       "    <tr>\n",
       "      <th>...</th>\n",
       "      <td>...</td>\n",
       "      <td>...</td>\n",
       "      <td>...</td>\n",
       "    </tr>\n",
       "    <tr>\n",
       "      <th>2996</th>\n",
       "      <td>0</td>\n",
       "      <td>0</td>\n",
       "      <td>0</td>\n",
       "    </tr>\n",
       "    <tr>\n",
       "      <th>2997</th>\n",
       "      <td>0</td>\n",
       "      <td>0</td>\n",
       "      <td>0</td>\n",
       "    </tr>\n",
       "    <tr>\n",
       "      <th>2998</th>\n",
       "      <td>0</td>\n",
       "      <td>0</td>\n",
       "      <td>0</td>\n",
       "    </tr>\n",
       "    <tr>\n",
       "      <th>2999</th>\n",
       "      <td>0</td>\n",
       "      <td>0</td>\n",
       "      <td>0</td>\n",
       "    </tr>\n",
       "    <tr>\n",
       "      <th>3000</th>\n",
       "      <td>0</td>\n",
       "      <td>0</td>\n",
       "      <td>0</td>\n",
       "    </tr>\n",
       "  </tbody>\n",
       "</table>\n",
       "<p>3001 rows × 3 columns</p>\n",
       "</div>"
      ],
      "text/plain": [
       "      Prediction  Actual  Difference\n",
       "0              0       0           0\n",
       "1              0       0           0\n",
       "2              0       0           0\n",
       "3              0       0           0\n",
       "4              0       0           0\n",
       "...          ...     ...         ...\n",
       "2996           0       0           0\n",
       "2997           0       0           0\n",
       "2998           0       0           0\n",
       "2999           0       0           0\n",
       "3000           0       0           0\n",
       "\n",
       "[3001 rows x 3 columns]"
      ]
     },
     "execution_count": 17,
     "metadata": {},
     "output_type": "execute_result"
    }
   ],
   "source": [
    "# Showing the Actual and Predicted values of the winner and their difference in the dataframe\n",
    "avp_df = pd.DataFrame({\"Prediction\": y_pred, \"Actual\": y_actual, \"Difference\":diff})\n",
    "avp_df"
   ]
  },
  {
   "cell_type": "code",
   "execution_count": 18,
   "id": "dd13f6e0",
   "metadata": {},
   "outputs": [],
   "source": [
    "# to show how far my dataset predicted accurately in the scatter plot\n",
    "x = avp_df.index\n",
    "y1 = avp_df['Prediction']\n",
    "y2 = avp_df['Actual']"
   ]
  },
  {
   "cell_type": "code",
   "execution_count": 19,
   "id": "721303a5",
   "metadata": {},
   "outputs": [
    {
     "data": {
      "image/png": "[encoded data removed]",
      "text/plain": [
       "<Figure size 432x288 with 1 Axes>"
      ]
     },
     "metadata": {
      "needs_background": "light"
     },
     "output_type": "display_data"
    }
   ],
   "source": [
    "x1 = avp_df.index[:50]\n",
    "y3 = avp_df['Prediction'][:50]\n",
    "y4 = avp_df['Actual'][:50]\n",
    "\n",
    "# When red(Actual winner) and green(predicted winner) are together in the below plot, that means prediction matches Actual results\n",
    "plt.scatter(x1, y3, c =\"green\",\n",
    "            linewidths = 6,\n",
    "            marker =\"o\",\n",
    "            s = 50)\n",
    " \n",
    "plt.scatter(x1, y4, c =\"red\",\n",
    "            linewidths = 2,\n",
    "            marker =\"x\",\n",
    "            s = 200)\n",
    " \n",
    "plt.xlabel(\"X-axis\")\n",
    "plt.ylabel(\"Y-axis\")\n",
    "plt.show()"
   ]
  },
  {
   "cell_type": "code",
   "execution_count": null,
   "id": "ddd9b1db",
   "metadata": {},
   "outputs": [],
   "source": []
  }
 ],
 "metadata": {
  "kernelspec": {
   "display_name": "Python 3 (ipykernel)",
   "language": "python",
   "name": "python3"
  },
  "language_info": {
   "codemirror_mode": {
    "name": "ipython",
    "version": 3
   },
   "file_extension": ".py",
   "mimetype": "text/x-python",
   "name": "python",
   "nbconvert_exporter": "python",
   "pygments_lexer": "ipython3",
   "version": "3.7.7"
  }
 },
 "nbformat": 4,
 "nbformat_minor": 5
}
