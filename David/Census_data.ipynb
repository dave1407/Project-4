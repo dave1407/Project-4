{
 "cells": [
  {
   "cell_type": "code",
   "execution_count": 1,
   "id": "22b36cb7",
   "metadata": {},
   "outputs": [],
   "source": [
    "# Dependencies\n",
    "import numpy as np\n",
    "import pandas as pd\n",
    "import matplotlib.pyplot as plt\n",
    "import requests\n",
    "from census import Census\n",
    "\n",
    "# Census API Key\n",
    "from config import api_key\n",
    "#c = Census(api_key, year=2016)"
   ]
  },
  {
   "cell_type": "code",
   "execution_count": 2,
   "id": "2dc13af7",
   "metadata": {},
   "outputs": [
    {
     "name": "stderr",
     "output_type": "stream",
     "text": [
      "C:\\Users\\dmostacero\\AppData\\Local\\Temp\\ipykernel_22496\\2040593033.py:33: FutureWarning: The default value of regex will change from True to False in a future version.\n",
      "  census_pd['county_name'] = census_pd['Name'].str.replace(r\" County,(.*)\",'').str.upper()\n",
      "C:\\Users\\dmostacero\\AppData\\Local\\Temp\\ipykernel_22496\\2040593033.py:34: FutureWarning: The default value of regex will change from True to False in a future version.\n",
      "  census_pd['state'] = census_pd['Name'].str.replace(r\"(.*) County, \",'').str.upper()\n",
      "C:\\Users\\dmostacero\\AppData\\Local\\Temp\\ipykernel_22496\\2040593033.py:33: FutureWarning: The default value of regex will change from True to False in a future version.\n",
      "  census_pd['county_name'] = census_pd['Name'].str.replace(r\" County,(.*)\",'').str.upper()\n",
      "C:\\Users\\dmostacero\\AppData\\Local\\Temp\\ipykernel_22496\\2040593033.py:34: FutureWarning: The default value of regex will change from True to False in a future version.\n",
      "  census_pd['state'] = census_pd['Name'].str.replace(r\"(.*) County, \",'').str.upper()\n",
      "C:\\Users\\dmostacero\\AppData\\Local\\Temp\\ipykernel_22496\\2040593033.py:33: FutureWarning: The default value of regex will change from True to False in a future version.\n",
      "  census_pd['county_name'] = census_pd['Name'].str.replace(r\" County,(.*)\",'').str.upper()\n",
      "C:\\Users\\dmostacero\\AppData\\Local\\Temp\\ipykernel_22496\\2040593033.py:34: FutureWarning: The default value of regex will change from True to False in a future version.\n",
      "  census_pd['state'] = census_pd['Name'].str.replace(r\"(.*) County, \",'').str.upper()\n"
     ]
    }
   ],
   "source": [
    "# Run Census Search to retrieve data on all zip codes (2013 ACS5 Census)\n",
    "# See: https://github.com/CommerceDataService/census-wrapper for library documentation\n",
    "# See: https://gist.github.com/afhaque/60558290d6efd892351c4b64e5c01e9b for labels\n",
    "def get_census(year):\n",
    "    c = Census(api_key, year=year)\n",
    "    census_data = c.acs5.get((\"NAME\", \"B19013_001E\", \"B01003_001E\", \"B01002_001E\",\n",
    "                          \"B19301_001E\",\n",
    "                          \"B17001_002E\"), \n",
    "                         {'for': 'county:*'})\n",
    "                        # {'for': 'zip code tabulation area:*'})\n",
    "\n",
    "# Convert to DataFrame\n",
    "    census_pd = pd.DataFrame(census_data)\n",
    "\n",
    "# Column Reordering\n",
    "    census_pd = census_pd.rename(columns={\"B01003_001E\": \"Population\",\n",
    "                                      \"B01002_001E\": \"Median Age\",\n",
    "                                      \"B19013_001E\": \"Household Income\",\n",
    "                                      \"B19301_001E\": \"Per Capita Income\",\n",
    "                                      \"B17001_002E\": \"Poverty Count\",\n",
    "                                      \"NAME\": \"Name\", \"county\": \"County\"\n",
    "                                      })\n",
    "\n",
    "# Add in Poverty Rate (Poverty Count / Population)\n",
    "    census_pd[\"Poverty Rate\"] = 100 * \\\n",
    "        census_pd[\"Poverty Count\"].astype(\n",
    "            int) / census_pd[\"Population\"].astype(int)\n",
    "\n",
    "# Final DataFrame\n",
    "    census_pd = census_pd[[\"Name\",\"County\", \"Population\", \"Median Age\", \"Household Income\",\n",
    "                           \"Per Capita Income\", \"Poverty Count\", \"Poverty Rate\"]]\n",
    "\n",
    "    census_pd['county_name'] = census_pd['Name'].str.replace(r\" County,(.*)\",'').str.upper()\n",
    "    census_pd['state'] = census_pd['Name'].str.replace(r\"(.*) County, \",'').str.upper()\n",
    "# Visualize\n",
    "    \n",
    "    return census_pd\n",
    "\n",
    "\n",
    "census_2012 = get_census(2012)\n",
    "census_2012.head()\n",
    "census_2012['year'] = 2012\n",
    "\n",
    "census_2016 = get_census(2016)\n",
    "census_2016.head()\n",
    "census_2016['year'] = 2016\n",
    "\n",
    "census_2020 = get_census(2020)\n",
    "census_2020['year'] = 2020\n",
    "census_2020.head()\n",
    "census = pd.concat([census_2012,census_2016,census_2020])"
   ]
  },
  {
   "cell_type": "code",
   "execution_count": 3,
   "id": "ba0292e8",
   "metadata": {},
   "outputs": [
    {
     "data": {
      "text/html": [
       "<div>\n",
       "<style scoped>\n",
       "    .dataframe tbody tr th:only-of-type {\n",
       "        vertical-align: middle;\n",
       "    }\n",
       "\n",
       "    .dataframe tbody tr th {\n",
       "        vertical-align: top;\n",
       "    }\n",
       "\n",
       "    .dataframe thead th {\n",
       "        text-align: right;\n",
       "    }\n",
       "</style>\n",
       "<table border=\"1\" class=\"dataframe\">\n",
       "  <thead>\n",
       "    <tr style=\"text-align: right;\">\n",
       "      <th></th>\n",
       "      <th>year</th>\n",
       "      <th>state</th>\n",
       "      <th>county_name</th>\n",
       "      <th>winner</th>\n",
       "    </tr>\n",
       "  </thead>\n",
       "  <tbody>\n",
       "    <tr>\n",
       "      <th>0</th>\n",
       "      <td>2012</td>\n",
       "      <td>ALABAMA</td>\n",
       "      <td>AUTAUGA</td>\n",
       "      <td>REPUBLICAN</td>\n",
       "    </tr>\n",
       "    <tr>\n",
       "      <th>1</th>\n",
       "      <td>2012</td>\n",
       "      <td>ALABAMA</td>\n",
       "      <td>BALDWIN</td>\n",
       "      <td>REPUBLICAN</td>\n",
       "    </tr>\n",
       "    <tr>\n",
       "      <th>2</th>\n",
       "      <td>2012</td>\n",
       "      <td>ALABAMA</td>\n",
       "      <td>BARBOUR</td>\n",
       "      <td>DEMOCRAT</td>\n",
       "    </tr>\n",
       "    <tr>\n",
       "      <th>3</th>\n",
       "      <td>2012</td>\n",
       "      <td>ALABAMA</td>\n",
       "      <td>BIBB</td>\n",
       "      <td>REPUBLICAN</td>\n",
       "    </tr>\n",
       "    <tr>\n",
       "      <th>4</th>\n",
       "      <td>2012</td>\n",
       "      <td>ALABAMA</td>\n",
       "      <td>BLOUNT</td>\n",
       "      <td>REPUBLICAN</td>\n",
       "    </tr>\n",
       "    <tr>\n",
       "      <th>...</th>\n",
       "      <td>...</td>\n",
       "      <td>...</td>\n",
       "      <td>...</td>\n",
       "      <td>...</td>\n",
       "    </tr>\n",
       "    <tr>\n",
       "      <th>8637</th>\n",
       "      <td>2020</td>\n",
       "      <td>WYOMING</td>\n",
       "      <td>SWEETWATER</td>\n",
       "      <td>REPUBLICAN</td>\n",
       "    </tr>\n",
       "    <tr>\n",
       "      <th>8638</th>\n",
       "      <td>2020</td>\n",
       "      <td>WYOMING</td>\n",
       "      <td>TETON</td>\n",
       "      <td>DEMOCRAT</td>\n",
       "    </tr>\n",
       "    <tr>\n",
       "      <th>8639</th>\n",
       "      <td>2020</td>\n",
       "      <td>WYOMING</td>\n",
       "      <td>UINTA</td>\n",
       "      <td>REPUBLICAN</td>\n",
       "    </tr>\n",
       "    <tr>\n",
       "      <th>8640</th>\n",
       "      <td>2020</td>\n",
       "      <td>WYOMING</td>\n",
       "      <td>WASHAKIE</td>\n",
       "      <td>REPUBLICAN</td>\n",
       "    </tr>\n",
       "    <tr>\n",
       "      <th>8641</th>\n",
       "      <td>2020</td>\n",
       "      <td>WYOMING</td>\n",
       "      <td>WESTON</td>\n",
       "      <td>REPUBLICAN</td>\n",
       "    </tr>\n",
       "  </tbody>\n",
       "</table>\n",
       "<p>8642 rows × 4 columns</p>\n",
       "</div>"
      ],
      "text/plain": [
       "      year    state county_name      winner\n",
       "0     2012  ALABAMA     AUTAUGA  REPUBLICAN\n",
       "1     2012  ALABAMA     BALDWIN  REPUBLICAN\n",
       "2     2012  ALABAMA     BARBOUR    DEMOCRAT\n",
       "3     2012  ALABAMA        BIBB  REPUBLICAN\n",
       "4     2012  ALABAMA      BLOUNT  REPUBLICAN\n",
       "...    ...      ...         ...         ...\n",
       "8637  2020  WYOMING  SWEETWATER  REPUBLICAN\n",
       "8638  2020  WYOMING       TETON    DEMOCRAT\n",
       "8639  2020  WYOMING       UINTA  REPUBLICAN\n",
       "8640  2020  WYOMING    WASHAKIE  REPUBLICAN\n",
       "8641  2020  WYOMING      WESTON  REPUBLICAN\n",
       "\n",
       "[8642 rows x 4 columns]"
      ]
     },
     "execution_count": 3,
     "metadata": {},
     "output_type": "execute_result"
    }
   ],
   "source": [
    "# Save as a csv\n",
    "# Note to avoid any issues later, use encoding=\"utf-8\"\n",
    "winners_pd=pd.read_csv(\"countypres_2000-2020.csv\")\n",
    "winners_pd = winners_pd[((winners_pd['year'] == 2012) | (winners_pd['year'] == 2016) | (winners_pd['year'] == 2020)) & (winners_pd['mode'] == 'TOTAL')]\n",
    "dem_pd = winners_pd[winners_pd['party'] == 'DEMOCRAT']\n",
    "dem_pd\n",
    " #& ((winners_pd['party'] == 'DEMOCRAT') | (winners_pd['party'] == 'REPUBLICAN') )\n",
    "rep_pd = winners_pd[winners_pd['party'] == 'REPUBLICAN']\n",
    "rep_pd\n",
    "\n",
    "merge_pd=dem_pd.merge(rep_pd, on = ['year','state', 'county_name'])\n",
    "\n",
    "merge_pd[merge_pd['county_name']=='BALDWIN']\n",
    "dem_pd\n",
    "#rep_pd\n",
    "merge_pd['winner'] = np.where(merge_pd['candidatevotes_x'] > merge_pd['candidatevotes_y'], merge_pd['party_x'], merge_pd['party_y'])\n",
    "merge_pd = merge_pd[['year','state','county_name','winner']]\n",
    "merge_pd"
   ]
  },
  {
   "cell_type": "code",
   "execution_count": 4,
   "id": "328af981",
   "metadata": {
    "scrolled": true
   },
   "outputs": [],
   "source": [
    "cleaned_census_data = merge_pd.merge(census, on=['year','state', 'county_name'])\n",
    "\n",
    "cleaned_census_data = cleaned_census_data[['year','state', 'county_name','Population','Median Age', 'Household Income', 'Per Capita Income', 'Poverty Rate', 'winner']]\n",
    "cleaned_census_data\n",
    " \n",
    "cleaned_census_data.to_csv('census_data_2012_to_2020.csv')  \n"
   ]
  },
  {
   "cell_type": "code",
   "execution_count": 5,
   "id": "58d87c64",
   "metadata": {},
   "outputs": [],
   "source": [
    "import matplotlib.pyplot as plt\n",
    "from sklearn.datasets import load_iris\n",
    "from sklearn.model_selection import train_test_split\n",
    "from sklearn.neighbors import KNeighborsClassifier"
   ]
  },
  {
   "cell_type": "code",
   "execution_count": 6,
   "id": "535cee40",
   "metadata": {},
   "outputs": [
    {
     "data": {
      "text/html": [
       "<div>\n",
       "<style scoped>\n",
       "    .dataframe tbody tr th:only-of-type {\n",
       "        vertical-align: middle;\n",
       "    }\n",
       "\n",
       "    .dataframe tbody tr th {\n",
       "        vertical-align: top;\n",
       "    }\n",
       "\n",
       "    .dataframe thead th {\n",
       "        text-align: right;\n",
       "    }\n",
       "</style>\n",
       "<table border=\"1\" class=\"dataframe\">\n",
       "  <thead>\n",
       "    <tr style=\"text-align: right;\">\n",
       "      <th></th>\n",
       "      <th>Population</th>\n",
       "      <th>Median Age</th>\n",
       "      <th>Household Income</th>\n",
       "      <th>Per Capita Income</th>\n",
       "      <th>Poverty Rate</th>\n",
       "    </tr>\n",
       "  </thead>\n",
       "  <tbody>\n",
       "    <tr>\n",
       "      <th>0</th>\n",
       "      <td>54590.0</td>\n",
       "      <td>37.0</td>\n",
       "      <td>53773.0</td>\n",
       "      <td>25253.0</td>\n",
       "      <td>11.480125</td>\n",
       "    </tr>\n",
       "    <tr>\n",
       "      <th>1</th>\n",
       "      <td>183226.0</td>\n",
       "      <td>41.2</td>\n",
       "      <td>50706.0</td>\n",
       "      <td>26769.0</td>\n",
       "      <td>13.099669</td>\n",
       "    </tr>\n",
       "    <tr>\n",
       "      <th>2</th>\n",
       "      <td>27469.0</td>\n",
       "      <td>38.2</td>\n",
       "      <td>31889.0</td>\n",
       "      <td>16532.0</td>\n",
       "      <td>23.280789</td>\n",
       "    </tr>\n",
       "    <tr>\n",
       "      <th>3</th>\n",
       "      <td>22769.0</td>\n",
       "      <td>39.4</td>\n",
       "      <td>36824.0</td>\n",
       "      <td>17611.0</td>\n",
       "      <td>15.784619</td>\n",
       "    </tr>\n",
       "    <tr>\n",
       "      <th>4</th>\n",
       "      <td>57466.0</td>\n",
       "      <td>39.1</td>\n",
       "      <td>45192.0</td>\n",
       "      <td>21155.0</td>\n",
       "      <td>14.610378</td>\n",
       "    </tr>\n",
       "  </tbody>\n",
       "</table>\n",
       "</div>"
      ],
      "text/plain": [
       "   Population  Median Age  Household Income  Per Capita Income  Poverty Rate\n",
       "0     54590.0        37.0           53773.0            25253.0     11.480125\n",
       "1    183226.0        41.2           50706.0            26769.0     13.099669\n",
       "2     27469.0        38.2           31889.0            16532.0     23.280789\n",
       "3     22769.0        39.4           36824.0            17611.0     15.784619\n",
       "4     57466.0        39.1           45192.0            21155.0     14.610378"
      ]
     },
     "execution_count": 6,
     "metadata": {},
     "output_type": "execute_result"
    }
   ],
   "source": [
    "X = cleaned_census_data.drop(['year','state', 'county_name','winner'], axis=1)\n",
    "X.head()"
   ]
  },
  {
   "cell_type": "code",
   "execution_count": 7,
   "id": "b3614d7c",
   "metadata": {},
   "outputs": [],
   "source": [
    "y = cleaned_census_data[\"winner\"].values"
   ]
  },
  {
   "cell_type": "code",
   "execution_count": 8,
   "id": "77cbe0b0",
   "metadata": {},
   "outputs": [],
   "source": [
    "X_train, X_test, y_train, y_test = train_test_split(X, y, random_state=1)"
   ]
  },
  {
   "cell_type": "code",
   "execution_count": 9,
   "id": "74a36fcd",
   "metadata": {},
   "outputs": [
    {
     "data": {
      "text/plain": [
       "StandardScaler()"
      ]
     },
     "execution_count": 9,
     "metadata": {},
     "output_type": "execute_result"
    }
   ],
   "source": [
    "from sklearn.preprocessing import StandardScaler\n",
    "\n",
    "# Create a StandardScater model and fit it to the training data\n",
    "\n",
    "X_scaler = StandardScaler()\n",
    "X_scaler.fit(X_train)"
   ]
  },
  {
   "cell_type": "code",
   "execution_count": 10,
   "id": "24ed3b6a",
   "metadata": {},
   "outputs": [],
   "source": [
    "# Transform the training and testing data by using the X_scaler and y_scaler models\n",
    "\n",
    "X_train_scaled = X_scaler.transform(X_train)\n",
    "X_test_scaled = X_scaler.transform(X_test)"
   ]
  },
  {
   "cell_type": "code",
   "execution_count": 11,
   "id": "4f8f7906",
   "metadata": {},
   "outputs": [
    {
     "name": "stdout",
     "output_type": "stream",
     "text": [
      "k: 1, Train/Test Score: 0.998/0.810\n",
      "k: 3, Train/Test Score: 0.902/0.846\n",
      "k: 5, Train/Test Score: 0.890/0.862\n",
      "k: 7, Train/Test Score: 0.884/0.867\n",
      "k: 9, Train/Test Score: 0.881/0.867\n",
      "k: 11, Train/Test Score: 0.878/0.864\n",
      "k: 13, Train/Test Score: 0.876/0.860\n",
      "k: 15, Train/Test Score: 0.872/0.862\n",
      "k: 17, Train/Test Score: 0.873/0.864\n",
      "k: 19, Train/Test Score: 0.872/0.867\n"
     ]
    },
    {
     "data": {
      "image/png": "[encoded data removed]",
      "text/plain": [
       "<Figure size 432x288 with 1 Axes>"
      ]
     },
     "metadata": {
      "needs_background": "light"
     },
     "output_type": "display_data"
    }
   ],
   "source": [
    "# Loop through different k values to find which has the highest accuracy.\n",
    "# Note: We use only odd numbers because we don't want any ties.\n",
    "train_scores = []\n",
    "test_scores = []\n",
    "for k in range(1, 20, 2):\n",
    "    knn = KNeighborsClassifier(n_neighbors=k)\n",
    "    knn.fit(X_train_scaled, y_train)\n",
    "    train_score = knn.score(X_train_scaled, y_train)\n",
    "    test_score = knn.score(X_test_scaled, y_test)\n",
    "    train_scores.append(train_score)\n",
    "    test_scores.append(test_score)\n",
    "    print(f\"k: {k}, Train/Test Score: {train_score:.3f}/{test_score:.3f}\")\n",
    "    \n",
    "    \n",
    "plt.plot(range(1, 20, 2), train_scores, marker='o')\n",
    "plt.plot(range(1, 20, 2), test_scores, marker=\"x\")\n",
    "plt.xlabel(\"k neighbors\")\n",
    "plt.ylabel(\"Testing accuracy score\")\n",
    "plt.show()"
   ]
  },
  {
   "cell_type": "code",
   "execution_count": 12,
   "id": "eb198f22",
   "metadata": {},
   "outputs": [
    {
     "name": "stdout",
     "output_type": "stream",
     "text": [
      "k=11 Test Acc: 0.864\n"
     ]
    }
   ],
   "source": [
    "# Note that k: 11 seems to be the best choice for this dataset\n",
    "knn = KNeighborsClassifier(n_neighbors=11)\n",
    "knn.fit(X_train_scaled, y_train)\n",
    "print('k=11 Test Acc: %.3f' % knn.score(X_test_scaled, y_test))"
   ]
  }
 ],
 "metadata": {
  "kernelspec": {
   "display_name": "Python 3 (ipykernel)",
   "language": "python",
   "name": "python3"
  },
  "language_info": {
   "codemirror_mode": {
    "name": "ipython",
    "version": 3
   },
   "file_extension": ".py",
   "mimetype": "text/x-python",
   "name": "python",
   "nbconvert_exporter": "python",
   "pygments_lexer": "ipython3",
   "version": "3.9.12"
  }
 },
 "nbformat": 4,
 "nbformat_minor": 5
}
